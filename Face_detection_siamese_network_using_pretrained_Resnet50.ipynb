{
  "nbformat": 4,
  "nbformat_minor": 0,
  "metadata": {
    "colab": {
      "provenance": [],
      "gpuType": "T4",
      "mount_file_id": "1obR6RrN3gLG215k8u6_g1OEP96zI-44B",
      "authorship_tag": "ABX9TyNZC2+nk+6t+6qs73mu7CYu",
      "include_colab_link": true
    },
    "kernelspec": {
      "name": "python3",
      "display_name": "Python 3"
    },
    "language_info": {
      "name": "python"
    },
    "accelerator": "GPU"
  },
  "cells": [
    {
      "cell_type": "markdown",
      "metadata": {
        "id": "view-in-github",
        "colab_type": "text"
      },
      "source": [
        "<a href=\"https://colab.research.google.com/github/123Satyajeet123/siamese_network_face_detection/blob/main/Face_detection_siamese_network_using_pretrained_Resnet50.ipynb\" target=\"_parent\"><img src=\"https://colab.research.google.com/assets/colab-badge.svg\" alt=\"Open In Colab\"/></a>"
      ]
    },
    {
      "cell_type": "markdown",
      "source": [
        "## Importing Necessary Modules"
      ],
      "metadata": {
        "id": "4WhxWPCHtpon"
      }
    },
    {
      "cell_type": "code",
      "source": [
        "#some of blocks below are not used.\n",
        "\n",
        "# Data manipulation\n",
        "import numpy as np\n",
        "import pandas as pd\n",
        "\n",
        "# Data visualisation\n",
        "import matplotlib.pyplot as plt\n",
        "\n",
        "# Fastai\n",
        "from fastai.vision import *\n",
        "from fastai.vision.models import *\n",
        "\n",
        "# PyTorch\n",
        "import torch\n",
        "import torch.nn as nn\n",
        "import torch.nn.functional as F\n",
        "import torchvision.transforms as transforms\n",
        "import torchvision.utils\n",
        "import torchvision.datasets as dset\n",
        "\n",
        "from torch import optim\n",
        "from torch.utils.data import DataLoader,Dataset\n",
        "from torchvision.models import *\n",
        "from torchvision.datasets import ImageFolder\n",
        "from torch.autograd import Variable\n",
        "#import pretrainedmodels\n",
        "\n",
        "from pathlib import Path\n",
        "import sys\n",
        "\n",
        "from glob import glob\n",
        "from PIL import Image"
      ],
      "metadata": {
        "id": "VnxWoIpSncV8"
      },
      "execution_count": 1,
      "outputs": []
    },
    {
      "cell_type": "code",
      "execution_count": 2,
      "metadata": {
        "id": "dURabDBTQMkS",
        "outputId": "eb5a2d7a-2c72-42e3-95bf-e87a1c8beb87",
        "colab": {
          "base_uri": "https://localhost:8080/"
        }
      },
      "outputs": [
        {
          "output_type": "stream",
          "name": "stderr",
          "text": [
            "/usr/local/lib/python3.10/dist-packages/torchvision/models/_utils.py:208: UserWarning: The parameter 'pretrained' is deprecated since 0.13 and may be removed in the future, please use 'weights' instead.\n",
            "  warnings.warn(\n",
            "/usr/local/lib/python3.10/dist-packages/torchvision/models/_utils.py:223: UserWarning: Arguments other than a weight enum or `None` for 'weights' are deprecated since 0.13 and may be removed in the future. The current behavior is equivalent to passing `weights=ResNet50_Weights.IMAGENET1K_V1`. You can also use `weights=ResNet50_Weights.DEFAULT` to get the most up-to-date weights.\n",
            "  warnings.warn(msg)\n",
            "Downloading: \"https://download.pytorch.org/models/resnet50-0676ba61.pth\" to /root/.cache/torch/hub/checkpoints/resnet50-0676ba61.pth\n",
            "100%|██████████| 97.8M/97.8M [00:01<00:00, 78.2MB/s]\n"
          ]
        }
      ],
      "source": [
        "# Importing torch and torchvision to get resnet model\n",
        "import torch\n",
        "import torchvision.models as models\n",
        "\n",
        "# Loading the pre-trained ResNet-50 model with ImageNet weights\n",
        "resnet = models.resnet50(pretrained=True)\n"
      ]
    },
    {
      "cell_type": "code",
      "source": [
        "# creating a custom dataset class for the triplets dataset\n",
        "import torch\n",
        "import os\n",
        "from PIL import Image\n",
        "from torch.utils.data import Dataset\n",
        "import torchvision.transforms as transforms\n",
        "\n",
        "class TripletDataset(Dataset):\n",
        "    def __init__(self, directory, triplet_list, transform=None):\n",
        "        self.directory = directory\n",
        "        self.triplet_list = triplet_list\n",
        "        self.transform = transform\n",
        "\n",
        "    def __len__(self):\n",
        "        return len(self.triplet_list)\n",
        "\n",
        "    def __getitem__(self, index):\n",
        "        anchor, positive, negative = self.triplet_list[index]\n",
        "\n",
        "        anchor_path = os.path.join(self.directory, anchor[0], anchor[1])\n",
        "        positive_path = os.path.join(self.directory, positive[0], positive[1])\n",
        "        negative_path = os.path.join(self.directory, negative[0], negative[1])\n",
        "\n",
        "        anchor_img = Image.open(anchor_path).convert(\"RGB\")\n",
        "        positive_img = Image.open(positive_path).convert(\"RGB\")\n",
        "        negative_img = Image.open(negative_path).convert(\"RGB\")\n",
        "\n",
        "        if self.transform is not None:\n",
        "            anchor_img = self.transform(anchor_img)\n",
        "            positive_img = self.transform(positive_img)\n",
        "            negative_img = self.transform(negative_img)\n",
        "\n",
        "        return anchor_img, positive_img, negative_img\n",
        "\n"
      ],
      "metadata": {
        "id": "XdRXIQRxsBwp"
      },
      "execution_count": 4,
      "outputs": []
    },
    {
      "cell_type": "markdown",
      "source": [
        "## Extracting Images from **IFW** Dataset"
      ],
      "metadata": {
        "id": "keNEBTG1tb_D"
      }
    },
    {
      "cell_type": "code",
      "source": [
        "\n",
        "\n",
        "import zipfile\n",
        "\n",
        "# Specify the path to the zip file\n",
        "zip_file_path = '/content/drive/MyDrive/lfw_new.zip'  # Change to your actual file path\n",
        "\n",
        "# Specify the directory where you want to extract the contents\n",
        "extracted_path = '/extracted/'  # Change to your desired extraction path\n",
        "\n",
        "# Create the target directory if it doesn't exist\n",
        "import os\n",
        "os.makedirs(extracted_path, exist_ok=True)\n",
        "\n",
        "# Extract the zip file\n",
        "with zipfile.ZipFile(zip_file_path, 'r') as zip_ref:\n",
        "    zip_ref.extractall(extracted_path)\n",
        "\n",
        "print(f'Zip file extracted to {extracted_path}')\n"
      ],
      "metadata": {
        "colab": {
          "base_uri": "https://localhost:8080/"
        },
        "id": "JBqzjj3_uH5q",
        "outputId": "84f12377-b5bf-4eaf-994e-45c6d767f074"
      },
      "execution_count": 6,
      "outputs": [
        {
          "output_type": "stream",
          "name": "stdout",
          "text": [
            "Zip file extracted to /extracted/\n"
          ]
        }
      ]
    },
    {
      "cell_type": "code",
      "source": [
        "ROOT = \"/etracted/lfw_new\""
      ],
      "metadata": {
        "id": "vgS3Zpiyu6tz"
      },
      "execution_count": 7,
      "outputs": []
    },
    {
      "cell_type": "code",
      "source": [
        "ROOT = \"/extracted/lfw_new\"\n",
        "import random\n",
        "import os\n",
        "\n",
        "def split_dataset(directory, split=0.9):\n",
        "    folders = os.listdir(directory)\n",
        "    num_train = int(len(folders)*split)\n",
        "\n",
        "    random.shuffle(folders)\n",
        "\n",
        "    train_list, test_list = {}, {}\n",
        "\n",
        "    # Creating Train-list\n",
        "    for folder in folders[:num_train]:\n",
        "        num_files = len(os.listdir(os.path.join(directory, folder)))\n",
        "        train_list[folder] = num_files\n",
        "\n",
        "    # Creating Test-list\n",
        "    for folder in folders[num_train:]:\n",
        "        num_files = len(os.listdir(os.path.join(directory, folder)))\n",
        "        test_list[folder] = num_files\n",
        "\n",
        "    return train_list, test_list\n",
        "\n",
        "\n",
        "train_list, test_list = split_dataset(ROOT, split=0.9)\n",
        "print(\"Length of training list:\", len(train_list))\n",
        "print(\"Length of testing list :\", len(test_list))\n",
        "\n",
        "# train_list, test list contains the folder names along with the number of files in the folder.\n",
        "print(\"\\nTest List:\", test_list)\n"
      ],
      "metadata": {
        "colab": {
          "base_uri": "https://localhost:8080/"
        },
        "id": "VNlb-vihw7-r",
        "outputId": "932b871a-e5b6-478d-dde1-41c5cebe0f18"
      },
      "execution_count": 16,
      "outputs": [
        {
          "output_type": "stream",
          "name": "stdout",
          "text": [
            "Length of training list: 1512\n",
            "Length of testing list : 168\n",
            "\n",
            "Test List: {'James_Blake': 14, 'Luiz_Inacio_Lula_da_Silva': 48, 'Henrique_Meirelles': 2, 'Jorge_Castaneda': 2, 'Mike_Holmgren': 2, 'Lisa_Raymond': 2, 'Ricky_Ponting': 2, 'John_Jumper': 2, 'Martin_Hoellwarth': 2, 'Gloria_Macapagal_Arroyo': 44, 'Gao_Qiang': 2, 'Rachel_Griffiths': 3, 'Roberto_Benigni': 2, 'Fred_Thompson': 3, 'Jim_Carrey': 3, 'Tubby_Smith': 3, 'Guillaume_Soro': 2, 'Kim_Jong-Il': 4, 'Brian_Cowen': 2, 'Flavia_Delaroli': 2, 'Rita_Wilson': 4, 'Lisa_Gottsegen': 2, 'Kent_Rominger': 2, 'John_Blaney': 2, 'Gabriel_Valdes': 2, 'Joseph_Blatter': 2, 'Lauren_Killian': 2, 'Munir_Akram': 2, 'Akbar_Hashemi_Rafsanjani': 3, 'Sergey_Lavrov': 11, 'Lesley_McCulloch': 3, 'Bob_Dole': 3, 'Allison_Janney': 2, 'Jean-Marc_de_La_Sabliere': 2, 'Phil_Gramm': 2, 'Chang_Dae-whan': 2, 'Ben_Affleck': 7, 'Xavier_Malisse': 5, 'William_Ford_Jr': 7, 'Emmanuelle_Beart': 3, 'Hisao_Oguchi': 2, 'Arturo_Gatti': 3, 'Charles_Grassley': 2, 'Prince_Willem-Alexander': 3, 'Guy_Ritchie': 2, 'Aitor_Gonzalez': 2, 'Michael_Chiklis': 5, 'Carolina_Kluft': 3, 'Wayne_Gretzky': 4, 'David_Wells': 7, 'Jeremy_Shockey': 2, 'Zhu_Rongji': 9, 'Rick_Santorum': 3, 'Lee_Hoi-chang': 4, 'Ethan_Hawke': 4, 'Jerry_Springer': 4, 'David_Anderson': 5, 'Georgi_Parvanov': 2, 'David_Caraway': 2, 'Adolfo_Rodriguez_Saa': 2, 'Paul_Burrell': 11, 'Manfred_Stolpe': 2, 'Leland_Chapman': 2, 'Vivica_Fox': 2, 'Bill_Sizemore': 2, 'Carlos_Mesa': 2, 'Will_Smith': 2, 'Paul_McCartney': 7, 'Lleyton_Hewitt': 41, 'Kurt_Warner': 5, 'Atal_Bihari_Vajpayee': 24, 'Paul_Coppin': 2, 'Jamling_Norgay': 2, 'Christopher_Patten': 2, 'Joe_Nichols': 4, 'Robert_Mugabe': 2, 'Richard_Branson': 2, 'Catherine_Zeta-Jones': 11, 'Sheila_Fraser': 2, 'Ricardo_Lopez_Murphy': 2, 'Carlos_Ruiz': 3, 'Tim_Chapman': 2, 'Jean-Francois_Pontal': 3, 'Angela_Bassett': 6, 'Doug_Duncan': 2, 'Keith_Bogans': 3, 'Justin_Gatlin': 2, 'Justin_Guarini': 3, 'Sheryl_Crow': 8, 'Prince_Naruhito': 3, 'Jason_Kidd': 10, 'Carly_Fiorina': 3, 'Yuri_Fedotov': 2, 'Don_Nickles': 2, 'Brigitte_Boisselier': 2, 'Conan_OBrien': 4, 'Sally_Kirkland': 4, 'Abdullah_Gul': 19, 'Gianna_Angelopoulos-Daskalaki': 3, 'Clint_Eastwood': 6, 'Vladimir_Voltchkov': 2, 'Ranil_Wickremasinghe': 3, 'Janica_Kostelic': 2, 'Scott_Rudin': 2, 'Tom_Daschle': 25, 'Thomas_OBrien': 9, 'John_McCain': 7, 'Martha_Stewart': 5, 'Amanda_Bynes': 4, 'Sebastien_Grosjean': 4, 'Caroline_Kennedy': 3, 'Naomi_Campbell': 2, 'Nebojsa_Pavkovic': 2, 'Vanessa_Williams': 3, 'Byron_Scott': 2, 'Lea_Fastow': 2, 'Norm_Coleman': 7, 'Vaclav_Klaus': 2, 'Chakib_Khelil': 2, 'Sean_Astin': 3, 'Gwyneth_Paltrow': 6, 'John_Warner': 4, 'Janet_Thorpe': 2, 'Rita_Grande': 3, 'Peter_Hillary': 2, 'Joe_Gatti': 2, 'Sergio_Vieira_De_Mello': 11, 'Lili_Taylor': 2, 'Matt_Damon': 4, 'Tommy_Thompson': 10, 'George_HW_Bush': 13, 'Herta_Daeubler-Gmelin': 2, 'Vin_Diesel': 2, 'Carlos_Vives': 4, 'Sharon_Stone': 5, 'Zoran_Djindjic': 4, 'Britney_Spears': 14, 'Lance_Bass': 5, 'Larry_Lucchino': 2, 'Hichiro_Naemura': 2, 'Mike_Brey': 2, 'David_Beckham': 31, 'Al_Sharpton': 7, 'Mike_Myers': 7, 'Gwendal_Peizerat': 3, 'Mitoji_Yabunaka': 2, 'Jose_Manuel_Durao_Barroso': 6, 'Miguel_Estrada': 2, 'Elsa_Zylberstein': 6, 'Elizabeth_Hurley': 5, 'Jimmy_Carter': 9, 'Michael_Winterbottom': 3, 'Norodom_Sihanouk': 3, 'Gregg_Popovich': 5, 'Bridget_Fonda': 3, 'Donald_Evans': 2, 'Larry_Bowa': 2, 'Sheila_Wellstone': 2, 'Gerhard_Schroeder': 109, 'Larry_Lindsey': 2, 'Grant_Hackett': 5, 'Tamara_Brooks': 2, 'Christian_Wulff': 2, 'John_Paul_II': 11, 'Robert_Fico': 2, 'Eve_Pelletier': 2, 'Mike_Montgomery': 2, 'Mohamed_ElBaradei': 8}\n"
          ]
        }
      ]
    },
    {
      "cell_type": "code",
      "source": [
        "print(train_list)"
      ],
      "metadata": {
        "colab": {
          "base_uri": "https://localhost:8080/"
        },
        "id": "yqSz8NYvxE33",
        "outputId": "4bee6689-75fe-4044-a26d-955d6ad87cd2"
      },
      "execution_count": 17,
      "outputs": [
        {
          "output_type": "stream",
          "name": "stdout",
          "text": [
            "{'Ben_Howland': 4, 'Leonid_Kuchma': 6, 'Brooke_Shields': 2, 'Marco_Antonio_Barrera': 6, 'Walter_Mondale': 10, 'Francis_George': 2, 'Reese_Witherspoon': 4, 'Rick_Perry': 6, 'Anne_McLellan': 3, 'Paul_Sarbanes': 3, 'Bud_Selig': 4, 'Paul_Bremer': 20, 'Giuseppe_Gibilisco': 4, 'Shane_Warne': 2, 'Patrick_Leahy': 2, 'Sophia_Loren': 7, 'Butch_Davis': 2, 'Michael_J_Sheehan': 2, 'Carlos_Menem': 21, 'Eliane_Karp': 4, 'Emily_Robison': 2, 'Petro_Symonenko': 2, 'Corinne_Coman': 2, 'Antonio_Trillanes': 3, 'Geraldine_Chaplin': 4, 'Rebecca_Romijn-Stamos': 4, 'James_Cunningham': 3, 'Vaclav_Havel': 9, 'Rupert_Murdoch': 2, 'Tom_Craddick': 4, 'Kifah_Ajouri': 2, 'Scott_Wolf': 2, 'Diana_Munz': 3, 'Gian_Marco': 3, 'Rio_Ferdinand': 2, 'Richard_Norton-Taylor': 2, 'Leander_Paes': 2, 'Dwayne_Johnson': 2, 'Fred_Funk': 2, 'Hashim_Thaci': 2, 'Wolfgang_Schuessel': 4, 'Hillary_Clinton': 14, 'Jodie_Foster': 3, 'Spencer_Abraham': 17, 'Mark_Heller': 2, 'Jack_Straw': 28, 'Barbra_Streisand': 3, 'Carlos_Moya': 19, 'Julie_Gerberding': 15, 'Jay_Rasulo': 2, 'Bill_McBride': 10, 'Terrell_Suggs': 2, 'Ruth_Harlow': 2, 'William_Hochul': 2, 'Valentino_Rossi': 6, 'Queen_Elizabeth_II': 13, 'Jay_Leno': 3, 'Hitomi_Soga': 5, 'Norah_Jones': 15, 'Paul_Shanley': 3, 'Winona_Ryder': 24, 'Abdullah': 4, 'Mike_Tyson': 4, 'John_Snow': 17, 'Shimon_Peres': 8, 'Saparmurat_Niyazov': 2, 'Marcelo_Ebrard': 3, 'John_Taylor': 2, 'Alvaro_Uribe': 35, 'Augusto_Pinochet': 2, 'Carlo_Ancelotti': 3, 'Juanes': 3, 'Frank_Dunham_Jr': 2, 'Michael_Chang': 8, 'Donald_Rumsfeld': 121, 'Trent_Lott': 16, 'Scott_Peterson': 5, 'David_Bell': 2, 'Bo_Ryan': 2, 'Paula_Zahn': 2, 'Blythe_Hartley': 2, 'Albert_Costa': 6, 'Robert_Bullock': 2, 'Lina_Krasnoroutskaya': 2, 'Harbhajan_Singh': 2, 'Phan_Van_Khai': 3, 'John_Travolta': 7, 'Lynn_Abraham': 2, 'Zinedine_Zidane': 6, 'Freddy_Garcia': 2, 'Francis_Ford_Coppola': 2, 'Natasha_McElhone': 3, 'Jeffrey_Scott_Postell': 2, 'Wang_Yingfan': 3, 'David_Caruso': 3, 'Stephen_Ambrose': 2, 'Harrison_Ford': 12, 'Lou_Piniella': 3, 'Lauren_Hutton': 2, 'Michel_Temer': 2, 'Owen_Wilson': 2, 'Roh_Moo-hyun': 32, 'Kenneth_Branagh': 2, 'John_Cusack': 2, 'Elvis_Presley': 2, 'Eddie_Sutton': 2, 'Orrin_Hatch': 2, 'John_Rigas': 2, 'LeBron_James': 5, 'Kirk_Johnson': 3, 'Anneli_Jaatteenmaki': 2, 'Kate_Hudson': 9, 'Luis_Ernesto_Derbez_Bautista': 6, 'Jennifer_Connelly': 4, 'Marina_Anissina': 2, 'Ronald_Reagan': 3, 'Rolf_Eckrodt': 2, 'Enrique_Bolanos': 5, 'Claudia_Schiffer': 3, 'Edwin_Edwards': 3, 'Claire_Danes': 3, 'Gene_Robinson': 5, 'Dennis_Erickson': 2, 'Robin_Cook': 2, 'Arye_Mekel': 2, 'Joseph_Deiss': 3, 'John_Negroponte': 31, 'Kirk_Ferentz': 2, 'Jong_Wook_Lee': 4, 'Alberto_Fujimori': 2, 'Scott_Ritter': 2, 'Doris_Schroeder': 4, 'Peter_Arnett': 3, 'Jean-Claude_Juncker': 2, 'Marissa_Jaret_Winokur': 2, 'Alexander_Losyukov': 4, 'Rick_Barnes': 3, 'Emanuel_Ginobili': 5, 'Lloyd_Ward': 2, 'Leslie_Moonves': 2, 'Chok_Tong_Goh': 2, 'George_Roy_Hill': 2, 'Nanni_Moretti': 2, 'Gustavo_Kuerten': 3, 'Mark_Wahlberg': 4, 'Oleksandr_Moroz': 2, 'George_W_Bush': 530, 'Roger_Moore': 5, 'Billy_Sollie': 2, 'Patti_Labelle': 3, 'Emile_Lahoud': 2, 'Hosni_Mubarak': 9, 'Gro_Harlem_Brundtland': 2, 'Robert_Torricelli': 3, 'Chen_Liang_Yu': 2, 'Elizabeth_Dole': 4, 'Bill_Clinton': 29, 'Victoria_Beckham': 3, 'Jennifer_Thompson': 2, 'Tassos_Papadopoulos': 3, 'Gerry_Adams': 8, 'Jean-Claude_Braquet': 2, 'Amber_Tamblyn': 2, 'Jim_Tressel': 4, 'Yu_Shyi-kun': 4, 'Christine_Gregoire': 4, 'Luis_Horna': 6, 'Amanda_Coetzer': 2, 'Arianna_Huffington': 4, 'Jeb_Bush': 12, 'Ralph_Klein': 2, 'James_Caan': 3, 'Mikulas_Dzurinda': 2, 'Phil_Mickelson': 2, 'Saddam_Hussein': 23, 'Hassan_Wirajuda': 2, 'Tom_Watson': 3, 'Alberto_Ruiz_Gallardon': 2, 'Muammar_Gaddafi': 2, 'Cate_Blanchett': 4, 'Carol_Moseley_Braun': 2, 'William_Bulger': 4, 'Jiri_Novak': 11, 'Martin_McCauley': 2, 'Lenny_Wilkens': 3, 'George_Galloway': 4, 'Christina_Aguilera': 4, 'Roger_Federer': 14, 'Vincent_Gallo': 3, 'GL_Peiris': 4, 'Dan_Wheldon': 2, 'Peter_Bacanovic': 2, 'Bijan_Namdar_Zangeneh': 2, 'James_Schultz': 2, 'Marisa_Tomei': 2, 'Ishaq_Shahryar': 2, 'Madonna': 5, 'Marat_Safin': 3, 'Martin_Verkerk': 3, 'Elinor_Caplan': 2, 'Heath_Ledger': 4, 'Jay_Garner': 6, 'Arnold_Palmer': 3, 'Theresa_May': 3, 'Eric_Rosser': 2, 'Robert_Blake': 8, 'Isaiah_Washington': 2, 'Dave_Campo': 3, 'Ray_Romano': 9, 'Nathalie_Baye': 4, 'Pierre_Boulanger': 2, 'Richard_Sambrook': 2, 'Bridgette_Wilson-Sampras': 3, 'Olivia_Newton-John': 2, 'Peter_Struck': 5, 'Morgan_Freeman': 2, 'Russell_Crowe': 2, 'Oprah_Winfrey': 4, 'Ben_Curtis': 3, 'Robert_Horan': 2, 'Bob_Graham': 6, 'Gilberto_Rodriguez_Orejuela': 4, 'Sylvester_Stallone': 9, 'Theodore_Tweed_Roosevelt': 3, 'Nathan_Lane': 2, 'Kamal_Kharrazi': 6, 'Elena_Bovina': 3, 'Demi_Moore': 4, 'John_Bolton': 17, 'Bernard_Lord': 2, 'Petria_Thomas': 3, 'Horst_Koehler': 3, 'Jennifer_Capriati': 42, 'Kathy_Winters': 2, 'Russell_Coutts': 2, 'Jefferson_Perez': 2, 'Jan_Ullrich': 6, 'Michel_Duclos': 2, 'Yoriko_Kawaguchi': 14, 'Pedro_Almodovar': 7, 'Raghad_Saddam_Hussein': 2, 'Ernie_Fletcher': 2, 'Victoria_Clarke': 5, 'Pete_Rose': 2, 'Kjell_Magne_Bondevik': 3, 'Natalie_Cole': 3, 'Queen_Beatrix': 4, 'Toshihiko_Fukui': 3, 'Dolly_Parton': 2, 'Cindy_Crawford': 3, 'Brad_Johnson': 5, 'Michelle_Branch': 2, 'Jelena_Dokic': 8, 'Mukesh_Ambani': 3, 'Denise_Johnson': 2, 'Richard_Myers': 18, 'Wu_Yi': 3, 'Andrei_Mikhnevich': 2, 'Augusto_Roa_Bastos': 2, 'Carson_Daly': 2, 'Kate_Winslet': 4, 'Miroljub': 2, 'Dominique_de_Villepin': 15, 'John_Ruiz': 2, 'Elisabeth_Schumacher': 2, 'Lisa_Marie_Presley': 4, 'Prince_William': 2, 'Ruth_Dreifuss': 2, 'Hermann_Maier': 2, 'Bill_Simon': 15, 'Dick_Latessa': 2, 'Vince_Gill': 2, 'Melanie_Griffith': 3, 'Derek_Jeter': 4, 'Tim_Floyd': 2, 'James_Wolfensohn': 5, 'Mary-Kate_Olsen': 3, 'Jeffrey_Jones': 2, 'Glafcos_Clerides': 4, 'Goh_Kun': 2, 'Terry_McAuliffe': 3, 'Pascal_Lamy': 2, 'Robert_Kocharian': 5, 'Clay_Aiken': 6, 'Gary_Doer': 3, 'Ismail_Merchant': 2, 'Zico': 3, 'Inocencio_Arias': 2, 'Amram_Mitzna': 2, 'Laura_Hernandez': 2, 'Abel_Pacheco': 4, 'Elton_John': 7, 'Jesse_Ventura': 3, 'Thomas_Birmingham': 2, 'Cesar_Maia': 2, 'Juan_Ignacio_Chela': 3, 'Vicki_Zhao_Wei': 2, 'Steven_Spielberg': 7, 'Marc-Andre_Fleury': 2, 'Steve_Nash': 5, 'Carla_Del_Ponte': 5, 'Alec_Baldwin': 4, 'Duane_Lee_Chapman': 2, 'Eileen_Coparropa': 3, 'Elijah_Wood': 3, 'Ferenc_Madl': 2, 'Christine_Ebersole': 2, 'Eddy_Merckx': 2, 'Greg_Ostertag': 2, 'Barbara_Brezigar': 2, 'Antonio_Palocci': 8, 'Pamela_Anderson': 5, 'Frank_Griswold': 2, 'Justine_Pasek': 7, 'Michael_Schumacher': 18, 'Leon_LaPorte': 2, 'Art_Howe': 4, 'Tom_Hanks': 10, 'Federico_Trillo': 3, 'Chuck_Yeager': 2, 'Gerard_Depardieu': 2, 'Dorthy_Moxley': 2, 'Javier_Solana': 10, 'Boris_Yeltsin': 2, 'Wesley_Clark': 2, 'Bono': 3, 'Joan_Claybrook': 2, 'Mario_Cipollini': 2, 'Christian_Longo': 3, 'Sila_Calderon': 4, 'Mark_Hurlbert': 5, 'Doug_Melvin': 3, 'Ariel_Sharon': 77, 'Sergei_Ivanov': 5, 'Karen_Mok': 2, 'Lindsay_Davenport': 22, 'Bruce_Van_De_Velde': 2, 'Strom_Thurmond': 3, 'Ann_Veneman': 11, 'Dick_Cheney': 14, 'Robert_Blackwill': 2, 'Ben_Glisan': 2, 'Rosemarie_Stack': 2, 'Jonathan_Edwards': 8, 'Ricardo_Lagos': 27, 'Lino_Oviedo': 3, 'Nancy_Sinatra': 2, 'Win_Aung': 4, 'Frank_Solich': 5, 'Rob_Lowe': 4, 'Noah_Wyle': 3, 'King_Abdullah_II': 5, 'Tom_Harkin': 5, 'Hee-Won_Han': 3, 'Vladimiro_Montesinos': 3, 'Gabriel_Batistuta': 2, 'Luis_Gonzalez_Macchi': 5, 'Steve_Spurrier': 2, 'Debra_Brown': 2, 'Antony_Leung': 4, 'Vojislav_Kostunica': 7, 'Tom_Glavine': 2, 'Ozzy_Osbourne': 3, 'Stan_Heath': 2, 'Warren_Buffett': 3, 'Geoff_Hoon': 7, 'Mark_Dacey': 2, 'Ralf_Schumacher': 8, 'George_Papandreou': 4, 'John_Mayer': 3, 'Evan_Rachel_Wood': 3, 'Bob_Beauprez': 2, 'Sean_Hayes': 2, 'Kenneth_Bowersox': 3, 'Asa_Hutchinson': 2, 'Joe_Lieberman': 13, 'Claire_Leger': 2, 'Mathias_Reichhold': 3, 'Eric_Clapton': 2, 'David_Stern': 4, 'Daniela_Hantuchova': 2, 'Tom_Reilly': 3, 'Paulo_Cesar_Pinheiro': 2, 'Franz_Fischler': 4, 'Bill_Parcells': 2, 'Harvey_Weinstein': 2, 'Eduard_Shevardnadze': 5, 'James_Smith': 2, 'Pedro_Solbes': 4, 'Abdel_Nasser_Assidi': 2, 'Hans_Blix': 39, 'Yevgeny_Kafelnikov': 4, 'Gordon_Brown': 13, 'Angela_Lansbury': 2, 'Martina_McBride': 5, 'Ian_McKellen': 3, 'Brad_Garrett': 4, 'Yao_Ming': 8, 'Brian_Griese': 2, 'Jose_Maria_Aznar': 23, 'George_Brumley': 2, 'John_Timoney': 2, 'David_Leahy': 2, 'Mary_Tyler_Moore': 2, 'Amelia_Vega': 7, 'Robby_Ginepri': 2, 'Princess_Elisabeth': 2, 'Patricia_Heaton': 2, 'Bernard_Landry': 4, 'Tyler_Hamilton': 2, 'Matthew_Broderick': 4, 'Kalpana_Chawla': 5, 'Harry_Belafonte': 2, 'Goran_Persson': 2, 'Kenneth_Evans': 2, 'Ted_Maher': 2, 'John_Garamendi': 2, 'Yasser_Arafat': 8, 'Juan_Manuel_Marquez': 3, 'Amer_al-Saadi': 4, 'Jeong_Se-hyun': 9, 'Vincent_Brooks': 7, 'Carlos_Quintanilla_Schmidt': 2, 'Meryl_Streep': 15, 'Adolfo_Aguilar_Zinser': 3, 'Bobby_Robson': 2, 'Sarah_Michelle_Gellar': 3, 'Carl_Reiner': 2, 'Jennifer_Keller': 4, 'Gloria_Allred': 2, 'Frank_Stallone': 2, 'Tsutomu_Takebe': 2, 'Gil_de_Ferran': 5, 'Barry_Zito': 2, 'Kurt_Russell': 2, 'Osama_bin_Laden': 4, 'Alejandro_Toledo': 39, 'Rick_Stansbury': 3, 'Beth_Jones': 2, 'Charles_Mathews': 2, 'Robert_Duvall': 8, 'Fujio_Cho': 6, 'Carlos_Ghosn': 2, 'Thomas_Wyman': 2, 'Frank_Cassell': 3, 'JK_Rowling': 6, 'Gary_Bergeron': 2, 'Jose_Dirceu': 2, 'Johnny_Carson': 2, 'James_Kopp': 4, 'Michelle_Rodriguez': 2, 'Heinz_Feldmann': 3, 'Jose_Sarney': 3, 'Mick_Jagger': 5, 'Allen_Iverson': 2, 'Franko_Simatovic': 2, 'Cristina_Fernandez': 2, 'Mohammed_Baqir_al-Hakim': 3, 'Anthony_LaPaglia': 2, 'Dennis_Powell': 2, 'Cristina_Saralegui': 2, 'Wang_Yi': 2, 'Jean-Sebastien_Giguere': 2, 'Mahathir_Mohamad': 14, 'Kate_Capshaw': 2, 'Sam_Torrance': 3, 'Jon_Gruden': 7, 'Svetlana_Koroleva': 2, 'Heather_Mills': 4, 'Sarah_Hughes': 6, 'Peter_Costello': 2, 'Jesse_Harris': 3, 'John_Swofford': 3, 'Steve_Ballmer': 3, 'Joseph_Estrada': 4, 'Andrew_Cuomo': 2, 'Samira_Makhmalbaf': 2, 'Martha_Lucia_Ramirez': 4, 'Serena_Williams': 52, 'Martina_Hingis': 3, 'Juergen_Peters': 2, 'Robert_Mueller': 5, 'Maggie_Smith': 2, 'Jude_Law': 2, 'Andy_Hebb': 2, 'Larry_Johnson': 2, 'Paul_Hogan': 2, 'Lynne_Cheney': 3, 'James_Traficant': 3, 'Paul-Henri_Mathieu': 3, 'Marc_Grossman': 4, 'Frank_Lautenberg': 2, 'Colin_Jackson': 2, 'Colin_Farrell': 9, 'Nicolas_Lapentti': 2, 'S_Jayakumar': 2, 'Jolanta_Kwasniewski': 2, 'Intisar_Ajouri': 3, 'Martha_Burk': 4, 'Gray_Davis': 26, 'Alvaro_Silva_Calderon': 4, 'Rick_Carlisle': 4, 'Chung_Mong-joon': 2, 'Michael_Capellas': 2, 'Margaret_Thatcher': 2, 'Sam_Mendes': 2, 'Nursultan_Nazarbayev': 2, 'Matt_Dillon': 3, 'Hilary_Duff': 3, 'Billy_Crystal': 6, 'Alice_Fisher': 2, 'Megan_Mullally': 3, 'Sharon_Osbourne': 3, 'James_Cameron': 3, 'Taha_Yassin_Ramadan': 15, 'Naoto_Kan': 4, 'Dick_Vermeil': 2, 'James_Kelly': 11, 'Robinson_Stevenin': 2, 'Tammy_Lynn_Michaels': 2, 'Nelson_Mandela': 4, 'Felix_Mantilla': 2, 'Kieran_Prendergast': 2, 'Jean-Claude_Trichet': 2, 'Edward_James_Olmos': 2, 'Leonard_Hamilton': 2, 'Marwan_Barghouthi': 2, 'Lucio_Gutierrez': 13, 'Farouk_al-Sharaa': 3, 'Fred_Eckhard': 3, 'Naomi_Watts': 22, 'Alexandra_Stevenson': 3, 'Evander_Holyfield': 2, 'Paul_Tagliabue': 4, 'Pat_Burns': 2, 'Chen_Shui-bian': 5, 'Angelo_Reyes': 4, 'Luke_Walton': 2, 'Ilan_Ramon': 3, 'John_Kerry': 17, 'Ron_Dittemore': 8, 'Adrian_Nastase': 2, 'Sam_Bith': 3, 'David_Heymann': 5, 'Clara_Harris': 5, 'Roy_Jones_Jr': 2, 'Jane_Pauley': 2, 'Takashi_Sorimachi': 2, 'Halle_Berry': 16, 'Calista_Flockhart': 6, 'Christine_Todd_Whitman': 6, 'Kurt_Busch': 2, 'Tracee_Ellis_Ross': 2, 'Shaukat_Aziz': 2, 'Carla_Myers': 2, 'Rick_Dinse': 3, 'Mike_Price': 2, 'Abdullah_al-Attiyah': 3, 'Patricia_Clarkson': 4, 'Michael_Kostelnik': 2, 'Oxana_Fedorova': 4, 'Tyron_Garner': 2, 'Claire_Hentzen': 2, 'Priscilla_Presley': 2, 'Ricky_Martin': 2, 'Eunice_Barber': 2, 'Paul_Gascoigne': 3, 'Dennis_Kozlowski': 2, 'John_Reid': 3, 'Venus_Williams': 17, 'Dianne_Feinstein': 3, 'Luis_Figo': 4, 'John_Abizaid': 9, 'Shane_Mosley': 2, 'Mary_Landrieu': 3, 'Arlen_Specter': 3, 'Ed_Smart': 3, 'Chung_Mong-hun': 2, 'Liza_Minnelli': 7, 'Denzel_Washington': 5, 'Lars_Von_Trier': 3, 'Queen_Latifah': 4, 'Thierry_Falise': 3, 'Paula_Radcliffe': 6, 'Mohammed_Al-Douri': 15, 'Bob_Colvin': 2, 'Michael_Jordan': 4, 'Martha_Beatriz_Roque': 2, 'Yuri_Malenchenko': 2, 'JJ_Redick': 2, 'Yoko_Ono': 6, 'Andy_Roddick': 15, 'Anastasia_Myskina': 3, 'Pascal_Quignard': 3, 'Cyndi_Thompson': 2, 'Susan_Sarandon': 6, 'Yukiko_Okudo': 2, 'Steve_Lavin': 6, 'Maureen_Fanning': 2, 'Masahiko_Nagasawa': 2, 'Roy_Williams': 4, 'Anthony_Hopkins': 2, 'Robbie_Fowler': 2, 'Patrice_Chereau': 2, 'Vicente_Fox': 32, 'Vince_Carter': 4, 'Hayley_Tullett': 2, 'Rebekah_Chantay_Revels': 4, 'Bill_Nelson': 2, 'Branko_Crvenkovski': 3, 'James_Franco': 2, 'Rita_Moreno': 2, 'Barry_Alvarez': 2, 'Marlene_Weingartner': 2, 'Ray_Allen': 3, 'Daisy_Fuentes': 4, 'Yasar_Yakis': 4, 'Fernando_Vargas': 4, 'Laurent_Gbagbo': 2, 'James_McGreevey': 4, 'Keira_Knightley': 2, 'Igor_Ivanov': 20, 'Stockard_Channing': 3, 'Steve_Mariucci': 3, 'Jorge_Valdano': 2, 'Alison_Lohman': 2, 'Jorge_Batlle': 3, 'Marilyn_Monroe': 2, 'Monica_Lewinsky': 3, 'Chris_Rock': 2, 'Hector_Babenco': 3, 'Valerie_Harper': 2, 'James_Parker': 2, 'Mary_Steenburgen': 3, 'James_Maguire': 2, 'Edie_Falco': 2, 'Job_Cohen': 2, 'Michelle_Pfeiffer': 3, 'James_Jones': 2, 'Latrell_Sprewell': 2, 'Li_Zhaoxing': 8, 'Martin_Sheen': 2, 'Stefano_Accorsi': 2, 'Ricardo_Monasterio': 2, 'Valery_Giscard_dEstaing': 6, 'Mary_Carey': 4, 'Hanan_Ashrawi': 2, 'Alexander_Downer': 4, 'Kristen_Breitweiser': 3, 'Lynn_Redgrave': 3, 'Tony_Blair': 144, 'Tommy_Franks': 16, 'Renee_Zellweger': 17, 'Kim_Yong-il': 3, 'Li_Peng': 9, 'Maria_Shriver': 8, 'Bill_Paxton': 4, 'Ricky_Barnes': 2, 'Mike_Krzyzewski': 6, 'Paul_Byrd': 2, 'Pierce_Brosnan': 15, 'Bobby_Goldwater': 2, 'John_McCormack': 2, 'Ricardo_Sanchez': 6, 'Anne_Krueger': 3, 'Robin_McLaurin_Williams': 2, 'Jason_Lezak': 2, 'Roman_Polanski': 6, 'Grady_Irvin_Jr': 2, 'Javier_Weber': 3, 'Kevin_Stallings': 2, 'Colin_Powell': 236, 'Aron_Ralston': 2, 'Pete_Sampras': 22, 'Keanu_Reeves': 12, 'Jeanne_Moreau': 2, 'Donald_Pettit': 3, 'Damon_van_Dam': 2, 'Mikhail_Gorbachev': 2, 'John_Ashcroft': 53, 'Sonia_Gandhi': 4, 'Dino_de_Laurentis': 2, 'Charles_Taylor': 9, 'Romano_Prodi': 7, 'Jia_Qinglin': 2, 'Maria_Luisa_Mendonca': 2, 'Katherine_Harris': 4, 'Hamzah_Haz': 2, 'George_Clooney': 9, 'Ahmed_Chalabi': 5, 'Franz_Muentefering': 4, 'Vladimir_Spidla': 3, 'Dominik_Garcia-Lorido': 2, 'Jim_Hahn': 4, 'Noelle_Bush': 4, 'Alicia_Silverstone': 2, 'John_Rosa': 3, 'Prince_Edward': 2, 'Leslie_Caldwell': 3, 'Kim_Ryong-sung': 11, 'Celso_Amorim': 2, 'Abid_Hamid_Mahmud_Al-Tikriti': 3, 'Paradorn_Srichaphan': 10, 'Joe_Mantello': 2, 'Ali_Naimi': 8, 'Thomas_Malchow': 2, 'Fidel_Castro': 18, 'Harry_Kalas': 2, 'Alexandra_Vodjanikova': 2, 'Andrew_Weissmann': 3, 'Maria_Soledad_Alvear_Valenzuela': 5, 'Anwar_Ibrahim': 2, 'Mark_Gottfried': 3, 'Kim_Dae-jung': 8, 'Tippi_Hedren': 2, 'John_Edwards': 8, 'Thomas_Rupprath': 3, 'Johnson_Panjaitan': 2, 'Richard_Butler': 2, 'Erin_Runnion': 4, 'Jessica_Lynch': 2, 'Silvio_Fernandez': 2, 'Mark_Geragos': 2, 'Padraig_Harrington': 4, 'Monique_Garbrecht-Enfeldt': 3, 'Doug_Collins': 2, 'Richard_Gephardt': 11, 'Martin_Brodeur': 2, 'Jessica_Alba': 2, 'Jacques_Rogge': 10, 'Brendan_Hansen': 2, 'Robert_Stack': 2, 'Pete_Carroll': 3, 'David_Nalbandian': 14, 'Jo_Dee_Messina': 2, 'Daniel_Day-Lewis': 3, 'Debbie_Reynolds': 4, 'James_Gandolfini': 3, 'Arnold_Schwarzenegger': 42, 'Akhmed_Zakayev': 3, 'Mike_Babcock': 2, 'Gary_Winnick': 2, 'Simon_Cowell': 2, 'David_Myers': 2, 'Roy_Moore': 6, 'Gloria_Trevi': 4, 'Arnaud_Clement': 2, 'Jamie_Villafane': 2, 'Bertie_Ahern': 5, 'Prince_Charles': 5, 'Steven_Hatfill': 2, 'Suzanne_Gaudet': 2, 'Amelie_Mauresmo': 21, 'Aaron_Peirsol': 4, 'Laura_Bush': 41, 'Paul_Kagame': 2, 'Michael_Phelps': 5, 'Rafael_Ramirez': 4, 'Charles_Moose': 13, 'Darrell_Issa': 2, 'Shannon_OBrien': 2, 'Tommy_Haas': 6, 'Pervez_Musharraf': 18, 'Paul_Wellstone': 3, 'Michael_Sullivan': 2, 'Jada_Pinkett_Smith': 2, 'Magdalena_Maleeva': 3, 'Michael_Ballack': 3, 'Kiki_Vandeweghe': 2, 'Jim_Furyk': 6, 'Marieta_Chrousala': 3, 'George_P_Bush': 2, 'Holly_Hunter': 7, 'Steve_Park': 2, 'Carol_Burnett': 2, 'Matthew_Perry': 7, 'Kathleen_Kennedy_Townsend': 4, 'Patrick_Ewing': 2, 'Candice_Bergen': 3, 'Russell_Simmons': 5, 'Rubens_Barrichello': 12, 'Chris_Tucker': 2, 'Melissa_Etheridge': 2, 'Nasser_al-Kidwa': 2, 'Sergio_Garcia': 2, 'Greg_Gilbert': 2, 'Dale_Earnhardt_Jr': 4, 'Tim_Conway': 3, 'Robert_Ehrlich': 2, 'Slobodan_Milosevic': 4, 'Coretta_Scott_King': 3, 'Gary_Williams': 2, 'Michael_Keaton': 2, 'Terje_Roed-Larsen': 2, 'Carolina_Moraes': 2, 'Bo_Pelini': 2, 'Tom_Brady': 2, 'James_Butts': 2, 'Silvan_Shalom': 6, 'Hu_Jintao': 15, 'Ashanti': 5, 'Herb_Sendek': 4, 'Lon_Kruger': 2, 'Bob_Stoops': 7, 'Kim_Clijsters': 14, 'Jean_Chretien': 55, 'Donatella_Versace': 3, 'Mahmoud_Abbas': 29, 'Richard_Krajicek': 3, 'Michelle_Kwan': 8, 'Jonathan_Mostow': 2, 'Tony_Curtis': 2, 'Tim_Allen': 4, 'Marie-Reine_Le_Gougne': 2, 'Nia_Vardalos': 5, 'Richard_Gere': 10, 'Samuel_Waksal': 4, 'Lionel_Richie': 2, 'Princess_Masako': 2, 'Art_Hoffmann': 2, 'Nicolas_Cage': 4, 'George_Voinovich': 3, 'Makhdoom_Amin_Fahim': 3, 'Placido_Domingo': 3, 'Ken_Watanabe': 2, 'Inam-ul-Haq': 2, 'Shaul_Mofaz': 3, 'Aleksander_Kwasniewski': 4, 'Carolyn_Dawn_Johnson': 3, 'Ruben_Studdard': 2, 'Ana_Guevara': 7, 'Natalie_Coughlin': 6, 'Jake_Gyllenhaal': 5, 'Ernie_Eves': 2, 'Paul_Pierce': 2, 'Joe_Dumars': 2, 'Phil_Vassar': 2, 'Alexander_Rumyantsev': 2, 'Bob_Hope': 8, 'Sachiko_Yamada': 4, 'Robert_Bonner': 3, 'Mike_Martz': 7, 'Ali_Abbas': 2, 'Edward_Kennedy': 3, 'Klaus_Zwickel': 2, 'Paris_Hilton': 2, 'Lana_Clarkson': 2, 'Joerg_Haider': 2, 'Justine_Henin': 3, 'Thomas_Bjorn': 2, 'Mack_Brown': 2, 'Joe_Calzaghe': 2, 'Vanessa_Redgrave': 5, 'Garry_Kasparov': 2, 'Lim_Dong-won': 2, 'Elizabeth_Smart': 5, 'Gary_Forsee': 2, 'Jong_Thae_Hwa': 2, 'Augustin_Calleri': 4, 'Warren_Beatty': 2, 'Shia_LaBeouf': 2, 'Tim_Henman': 19, 'Al_Pacino': 3, 'Nicanor_Duarte_Frutos': 11, 'Alex_Sink': 3, 'Zhang_Wenkang': 2, 'Gus_Van_Sant': 3, 'Emma_Thompson': 3, 'Saburo_Kawabuchi': 2, 'Howard_Dean': 12, 'Rod_Blagojevich': 2, 'Richard_Shelby': 2, 'Zafarullah_Khan_Jamali': 2, 'Iva_Majoli': 2, 'LeAnn_Rimes': 2, 'James_Ivory': 2, 'David_Trimble': 5, 'Dennis_Kucinich': 7, 'Torri_Edwards': 2, 'Sourav_Ganguly': 5, 'Eric_Hinske': 2, 'Filippo_Inzaghi': 3, 'John_Howard': 19, 'Tim_Robbins': 5, 'Jennifer_Rodriguez': 2, 'Jesse_James_Leija': 2, 'Jose_Mourinho': 2, 'Naji_Sabri': 8, 'Erika_Christensen': 2, 'Jeffrey_Archer': 2, 'Jean_Charest': 17, 'Ed_Rosenthal': 3, 'Christine_Baumgartner': 5, 'Drew_Barrymore': 2, 'Geno_Auriemma': 2, 'Hootie_Johnson': 2, 'Eduardo_Duhalde': 14, 'Brian_Heidik': 2, 'Dan_Morales': 3, 'Richard_Virenque': 8, 'Fernando_Henrique_Cardoso': 8, 'Elizabeth_Shue': 2, 'Kristin_Davis': 3, 'Daryl_Hannah': 2, 'Gary_Carter': 3, 'Terry_Stotts': 2, 'Surakait_Sathirathai': 2, 'Garry_Trudeau': 2, 'Sean_Patrick_OMalley': 3, 'Salma_Hayek': 13, 'Anna_Nicole_Smith': 2, 'John_Allen_Muhammad': 11, 'Tyra_Banks': 2, 'Leonardo_DiCaprio': 9, 'Paul_McNulty': 2, 'Hideki_Matsui': 2, 'John_Banko': 2, 'Edward_Said': 2, 'Alex_Barros': 2, 'Parris_Glendening': 2, 'Kevin_Spacey': 5, 'Dolma_Tsering': 2, 'Masum_Turker': 3, 'Harry_Schmidt': 4, 'Robert_Redford': 8, 'Prince_Harry': 3, 'Sean_OKeefe': 5, 'Paul_Patton': 2, 'Franco_Dragone': 2, 'Peter_Harrison': 2, 'Bulent_Ecevit': 6, 'Andrew_Niccol': 2, 'Yossi_Beilin': 2, 'Costas_Simitis': 6, 'Thaksin_Shinawatra': 6, 'Tom_Coverdale': 2, 'Hugh_Grant': 9, 'Ai_Sugiyama': 5, 'Isabella_Rossellini': 3, 'Mark_Warner': 2, 'Chanda_Rubin': 5, 'Michael_Powell': 5, 'Silvia_Farina_Elia': 3, 'Minnie_Driver': 2, 'Alastair_Campbell': 5, 'Alex_Penelas': 2, 'Julie_Taymor': 2, 'Hun_Sen': 4, 'Jan-Michael_Gambill': 3, 'Bernard_Law': 5, 'Joseph_Biden': 5, 'Julia_Tymoshenko': 3, 'Ciro_Gomes': 5, 'Camilla_Parker_Bowles': 2, 'Dean_Barkley': 4, 'Nikki_Reed': 2, 'Nabil_Shaath': 3, 'Nancy_Demme': 2, 'Joseph_Ralston': 2, 'Imad_Moustapha': 2, 'Ian_Thorpe': 10, 'Vidar_Helgesen': 2, 'Richie_Adubato': 2, 'Christopher_Reeve': 4, 'Michael_Douglas': 6, 'Dexter_Jackson': 2, 'Chris_Bell': 2, 'Jon_Corzine': 3, 'David_Kelley': 2, 'Jim_Edmonds': 2, 'Hal_Gehman': 5, 'Isabelle_Huppert': 2, 'Alan_Greenspan': 5, 'Bob_Huggins': 4, 'Bill_Callahan': 3, 'Carlos_Ortega': 3, 'Omar_Sharif': 4, 'Arantxa_Sanchez-Vicario': 2, 'Sarah_Jessica_Parker': 6, 'Choi_Sung-hong': 5, 'Justin_Timberlake': 8, 'William_Macy': 5, 'Jorge_Arce': 2, 'Elin_Nordegren': 2, 'Dick_Clark': 3, 'Hugo_Chavez': 71, 'Mario_Dumont': 2, 'Stanley_Tong': 2, 'Ken_Macha': 3, 'Muhammad_Ali': 10, 'Anders_Fogh_Rasmussen': 4, 'Stellan_Skarsgard': 2, 'William_Donaldson': 7, 'Lance_Armstrong': 18, 'Catherine_Deneuve': 5, 'Gary_Locke': 2, 'Jennifer_Aniston': 21, 'Flor_Montulo': 2, 'Moshe_Katsav': 4, 'Emma_Watson': 5, 'Kathleen_Glynn': 2, 'Princess_Aiko': 2, 'Adel_Al-Jubeir': 3, 'Darren_Clarke': 2, 'Kristanna_Loken': 5, 'Mesut_Yilmaz': 2, 'Jean_Brumley': 2, 'Muhammad_Saeed_al-Sahhaf': 5, 'John_Wolf': 2, 'Roberto_Carlos': 4, 'Jose_Canseco': 3, 'Robert_Evans': 3, 'Tung_Chee-hwa': 9, 'Edwina_Currie': 4, 'Todd_Haynes': 4, 'Diane_Green': 2, 'Larry_Thompson': 4, 'Gregory_Hines': 2, 'Juan_Pablo_Montoya': 8, 'Nicolas_Escude': 2, 'Thabo_Mbeki': 5, 'Barrett_Jackman': 2, 'Roseanne_Barr': 3, 'Cesar_Gaviria': 8, 'Sally_Field': 4, 'Habib_Rizieq': 5, 'Charles_Kartman': 2, 'Angela_Merkel': 5, 'Leszek_Miller': 3, 'Ahmet_Necdet_Sezer': 2, 'Sepp_Blatter': 4, 'Lee_Tae-sik': 2, 'Rick_Romley': 3, 'Edward_Lu': 6, 'Edmund_Stoiber': 13, 'Michael_Bloomberg': 20, 'Colin_Montgomerie': 5, 'Nadia_Petrova': 5, 'Rick_Pitino': 4, 'John_Rowland': 2, 'Abdullatif_Sener': 2, 'Magui_Serna': 2, 'Alan_Ball': 2, 'Rick_Wagoner': 2, 'Julianna_Margulies': 2, 'Annette_Lu': 3, 'Stanley_McChrystal': 3, 'Lily_Tomlin': 2, 'Blythe_Danner': 2, 'Tony_Bennett': 4, 'Peter_Greenaway': 2, 'Kelly_Clarkson': 3, 'Michael_Leavitt': 2, 'Oscar_De_La_Hoya': 7, 'Rogerio_Romero': 2, 'Jessica_Lange': 2, 'Susan_Collins': 2, 'Cherie_Blair': 4, 'Oscar_Elias_Biscet': 2, 'Eva_Dimas': 2, 'Juan_Valencia_Osorio': 2, 'Mark_Hamister': 2, 'Angelina_Jolie': 20, 'Zhang_Ziyi': 4, 'Benazir_Bhutto': 5, 'George_Robertson': 22, 'Dennis_Hastert': 6, 'Emmit_Smith': 2, 'Cruz_Bustamante': 5, 'Kim_Jin-sun': 2, 'Michelle_Yeoh': 5, 'Bill_Graham': 9, 'Karin_Stoiber': 2, 'John_Stallworth': 2, 'Guy_Hemmings': 2, 'Ashton_Kutcher': 3, 'Erika_Harold': 5, 'Heidi_Fleiss': 4, 'Don_Siegelman': 4, 'Lyle_Vanclief': 2, 'Jeffrey_Immelt': 2, 'Gerardo_Gambala': 2, 'Liu_Mingkang': 2, 'Mike_Scioscia': 2, 'Martha_Bowen': 2, 'Arsinee_Khanjian': 2, 'Leslie_Ann_Woodward': 2, 'Junichiro_Koizumi': 60, 'Paul_Wolfowitz': 10, 'Ricardo_Maduro': 2, 'Cameron_Diaz': 6, 'Patrick_McEnroe': 2, 'Roberto_Marinho': 3, 'Demetrius_Ferraciu': 2, 'Biljana_Plavsic': 3, 'Annette_Bening': 2, 'Saeb_Erekat': 2, 'Conchita_Martinez': 3, 'Darrell_Porter': 2, 'Alejandro_Atchugarry': 2, 'Laura_Linney': 4, 'Tony_Stewart': 6, 'Lee_Jun': 2, 'Franz_Beckenbauer': 2, 'Princess_Caroline': 5, 'Susie_Castillo': 2, 'Yashwant_Sinha': 7, 'Greg_Rusedski': 4, 'Jean-David_Levitte': 10, 'Ibrahim_Jaafari': 2, 'Jean_Carnahan': 2, 'Jacques_Chirac': 52, 'Mark_Cuban': 2, 'Lisa_Ling': 2, 'Paul_William_Hurley': 2, 'Lennox_Lewis': 3, 'Hans_Eichel': 3, 'Madeleine_Albright': 3, 'Patrick_Stewart': 2, 'Charlie_Zaa': 2, 'Michael_Patrick_King': 2, 'Constance_Marie': 3, 'David_Coulthard': 2, 'Ahmad_Masood': 2, 'John_Stockton': 5, 'Priscilla_Owen': 2, 'Bernardo_Segura': 2, 'Anibal_Ibarra': 3, 'Jeff_Van_Gundy': 3, 'Jiang_Zemin': 20, 'Norman_Jewison': 2, 'Jose_Viegas_Filho': 2, 'Tim_Duncan': 4, 'Gregory_Geoffroy': 2, 'Brian_Mulroney': 2, 'Jerry_Falwell': 2, 'Lee_Soo-hyuck': 3, 'Johnny_Tapia': 3, 'Robbie_Williams': 3, 'Roger_Clemens': 2, 'Stephen_Friedman': 2, 'Anna_Kournikova': 12, 'Manuel_Poggiali': 2, 'Ralph_Lauren': 2, 'Daniel_Radcliffe': 4, 'Bruce_Springsteen': 4, 'Claudia_Pechstein': 5, 'Julio_Iglesias_Jr': 2, 'Antonio_Banderas': 5, 'Rich_Gannon': 2, 'Doris_Roberts': 3, 'Mohamed_Benaissa': 2, 'Rodrigo_Borja': 2, 'Olesya_Bonabarenko': 2, 'Stephen_Daldry': 2, 'John_Walsh': 2, 'Lindsay_Benko': 2, 'Albrecht_Mentz': 2, 'Ray_Nagin': 2, 'Nadine_Vinzens': 2, 'Nastassia_Kinski': 2, 'Alan_Mulally': 2, 'Lucy_Liu': 5, 'Carlos_Bianchi': 2, 'Nancy_Pelosi': 15, 'Ali_Khamenei': 3, 'Rob_Marshall': 6, 'Tom_Cruise': 10, 'Jose_Theodore': 2, 'Boris_Berezovsky': 2, 'Johnny_Depp': 2, 'Mike_Weir': 11, 'Betsy_Smith': 2, 'Thomas_Fargo': 4, 'Larry_Coker': 4, 'Fabiola_Zuluaga': 2, 'Ludivine_Sagnier': 5, 'Scott_Sullivan': 2, 'Sean_Penn': 3, 'Rachel_Hunter': 4, 'Hannah_Stockbauer': 2, 'Max_Mayfield': 2, 'Rainer_Schuettler': 5, 'Jean-Pierre_Raffarin': 7, 'Lech_Walesa': 2, 'Richard_Armitage': 9, 'Tom_Crean': 5, 'Rolandas_Paksas': 2, 'Desiree_Lemosi': 2, 'Robert_DeFraites': 2, 'Aldo_Paredes': 2, 'Richard_Crenna': 2, 'Adam_Scott': 2, 'Condoleezza_Rice': 11, 'Candie_Kung': 4, 'Guillermo_Canas': 4, 'Jimmy_Kimmel': 2, 'Clare_Short': 4, 'David_Hyde_Pierce': 4, 'Theo_Epstein': 2, 'Sharon_Frey': 2, 'Amanda_Beard': 2, 'George_Karl': 2, 'Bill_Belichick': 2, 'Kelli_White': 2, 'Martin_Cauchon': 2, 'Steve_Backley': 2, 'Natalie_Maines': 5, 'John_Manley': 7, 'George_Ryan': 4, 'Jacqueline_Obradors': 2, 'Fran_Drescher': 2, 'Mel_Gibson': 2, 'Jayson_Williams': 3, 'Nick_Nolte': 5, 'Edward_Norton': 2, 'Charlton_Heston': 6, 'Bashar_Assad': 4, 'Penelope_Ann_Miller': 2, 'Gisele_Bundchen': 2, 'Nestor_Kirchner': 37, 'Bruce_Weber': 2, 'Michael_Jackson': 12, 'David_Wolf': 2, 'Dai_Bachtiar': 2, 'Ernie_Els': 4, 'Penelope_Cruz': 3, 'Ana_Palacio': 8, 'Lindsey_Graham': 2, 'Allyson_Felix': 5, 'Francis_Mer': 2, 'Jackie_Chan': 13, 'Oswaldo_Paya': 5, 'Richard_Haass': 2, 'Tom_Ridge': 33, 'Al_Davis': 2, 'Adrian_McPherson': 2, 'Mikhail_Youzhny': 3, 'John_McEnroe': 2, 'Ellen_Engleman': 2, 'Chris_Cooper': 2, 'Dalai_Lama': 2, 'Megawati_Sukarnoputri': 33, 'Ari_Fleischer': 13, 'Fabrice_Santoro': 3, 'Jack_Grubman': 2, 'Jon_Voight': 3, 'John_Brady': 2, 'Joe_Torre': 4, 'Mario_Kreutzberger': 2, 'Michael_Moore': 3, 'Janet_Napolitano': 4, 'Mireya_Moscoso': 5, 'Tariq_Aziz': 6, 'John_Reilly': 2, 'Derek_Lowe': 2, 'Tony_Parker': 2, 'Liam_Neeson': 3, 'William_Bratton': 3, 'Francisco_Flores': 4, 'Charles_Schumer': 2, 'Arminio_Fraga': 6, 'Celine_Dion': 8, 'Guillermo_Ortiz': 2, 'Marty_Mornhinweg': 3, 'Chick_Hearn': 3, 'Vladimir_Putin': 49, 'Alvaro_Noboa': 3, 'Jack_Nicholson': 3, 'Susilo_Bambang_Yudhoyono': 4, 'Jane_Fonda': 2, 'Aung_San_Suu_Kyi': 2, 'Joschka_Fischer': 19, 'Monica_Bellucci': 4, 'Cecilia_Bolocco': 3, 'Mark_Richt': 3, 'Johnny_Unitas': 2, 'Rob_Schneider': 2, 'Monica_Seles': 6, 'Courtney_Love': 2, 'Jim_OBrien': 3, 'Raoul_Ruiz': 4, 'Stacy_Dragila': 2, 'Billy_Graham': 2, 'Lawrence_MacAulay': 2, 'Nan_Wang': 4, 'Mikhail_Wehbe': 4, 'Kofi_Annan': 32, 'Silvio_Berlusconi': 33, 'James_Morris': 2, 'Michel_Therrien': 2, 'Toni_Braxton': 3, 'Iain_Duncan_Smith': 4, 'William_Rehnquist': 2, 'Rudolph_Giuliani': 26, 'George_Pataki': 5, 'Fernando_Gonzalez': 9, 'Tom_Jones': 2, 'Zarai_Toledo': 2, 'Luciano_Pavarotti': 3, 'Andrew_Bunner': 2, 'Steve_Waugh': 2, 'Judy_Genshaft': 2, 'Larry_Brown': 7, 'Hilmi_Ozkok': 2, 'Kosuke_Kitajima': 2, 'Larry_Ellison': 3, 'George_Foreman': 2, 'George_Tenet': 2, 'Howard_Smith': 2, 'Chris_Byrd': 2, 'Lord_Hutton': 2, 'Steven_Seagal': 2, 'Kimi_Raikkonen': 3, 'Gillian_Anderson': 2, 'Ellen_DeGeneres': 2, 'Heidi_Klum': 5, 'Mikhail_Kasyanov': 4, 'Patrick_Roy': 2, 'Jim_Harrick': 2, 'Vanessa_Incontrada': 4, 'Michael_Caine': 4, 'Alejandro_Avila': 3, 'Markus_Naslund': 2, 'Goldie_Hawn': 7, 'Sandra_Bullock': 4, 'Jason_Alexander': 2, 'Mike_Miller': 2, 'Katie_Harman': 3, 'Uma_Thurman': 3, 'Helen_Clark': 4, 'Chuck_Amato': 2, 'Ernesto_Zedillo': 2, 'Pedro_Malan': 5, 'Boris_Becker': 6, 'Begum_Khaleda_Zia': 2, 'Charlotte_Rampling': 2, 'Marcelo_Rios': 5, 'Kemal_Dervis': 3, 'Benjamin_Netanyahu': 5, 'Anthony_Fauci': 2, 'Jerry_Regier': 4, 'Laurent_Jalabert': 2, 'Carrie-Anne_Moss': 5, 'Al_Gore': 8, 'Tiger_Woods': 23, 'Donald_Fehr': 4, 'Milo_Djukanovic': 3, 'Steffi_Graf': 5, 'Kobe_Bryant': 3, 'Hamid_Karzai': 22, 'Andre_Agassi': 36, 'Rod_Stewart': 3, 'Miguel_Contreras': 2, 'Bertrand_Bonello': 2, 'Tomoko_Hagiwara': 2, 'Eric_Robert_Rudolph': 3, 'Cindy_Margolis': 2, 'Mian_Khursheed_Mehmood_Kasuri': 4, 'Debra_Messing': 3, 'OJ_Simpson': 2, 'Sharon_Davis': 2, 'Kelvin_Sampson': 3, 'Michelle_Collins': 2, 'Tommy_Robredo': 3, 'Nicole_Kidman': 19, 'Charles_Bronson': 3, 'Matt_Doherty': 3, 'Woody_Allen': 5, 'John_McCallum': 2, 'Salman_Rushdie': 3, 'Martin_McGuinness': 5, 'Tracy_McGrady': 2, 'Ron_Howard': 2, 'Judi_Dench': 2, 'Pat_Cox': 2, 'Raquel_Welch': 2, 'Erik_Morales': 3, 'Gonzalo_Sanchez_de_Lozada': 12, 'Robert_Zoellick': 7, 'Bill_Gates': 17, 'Carson_Palmer': 4, 'Princess_Anne': 2, 'Jane_Kaczmarek': 2, 'Kathryn_Bigelow': 2, 'David_Dodge': 2, 'Greg_Owen': 2, 'Nicholas_Tse': 2, 'Anders_Ebbeson': 3, 'Bill_Frist': 9, 'John_F_Kennedy_Jr': 2, 'Tony_Shalhoub': 4, 'William_Burns': 2, 'Tim_Curry': 2, 'Scott_McClellan': 5, 'Mohammad_Khatami': 10, 'Vicente_Fernandez': 5, 'Diana_Krall': 6, 'Rupert_Grint': 3, 'Mike_Helton': 2, 'Azra_Akin': 4, 'Iban_Mayo': 2, 'Tang_Jiaxuan': 11, 'Raymond_Odierno': 2, 'Len_Jenoff': 2, 'Justin_Leonard': 4, 'Christian_Fittipaldi': 2, 'Chan_Gailey': 3, 'Frances_Fisher': 2, 'Elizabeth_Taylor': 2, 'Nora_Bendijo': 2, 'Carmen_Electra': 6, 'Sheila_Copps': 4, 'Scott_McNealy': 2, 'Bijan_Darvish': 3, 'Milo_Maestrecampo': 3, 'Howard_Schultz': 2, 'Brian_Wells': 2, 'Guido_Westerwelle': 2, 'Jose_Serra': 9, 'Aaron_Sorkin': 2, 'Felipe_Perez_Roque': 4, 'Robert_De_Niro': 6, 'John_Malkovich': 3, 'Faye_Dunaway': 3, 'Jesse_Jackson': 9, 'Jennifer_Lopez': 21, 'Joan_Laporta': 9, 'Philippe_Noiret': 2, 'Xanana_Gusmao': 5, 'William_Martin': 2, 'Bode_Miller': 2, 'Donna_Shalala': 2, 'Miyako_Miyazaki': 2, 'Diana_Taurasi': 2, 'Paul_Martin': 8, 'Taufik_Hidayat': 3, 'Jennifer_Garner': 12, 'Ralph_Firman': 2, 'Wen_Jiabao': 13, 'Sue_Wicks': 2, 'Recep_Tayyip_Erdogan': 30, 'Heizo_Takenaka': 9, 'Marcelo_Salas': 3, 'Mark_Philippoussis': 11, 'Pupi_Avati': 4, 'David_Heyman': 2, 'Sally_Ride': 2, 'Juan_Carlos_Ferrero': 28, 'Arnoldo_Aleman': 5, 'Paul_ONeill': 9, 'Hal_Sutton': 2, 'Pierre_Pettigrew': 3, 'Bob_Geldof': 2, 'Kevin_Costner': 8, 'Alimzhan_Tokhtakhounov': 2, 'Prince_Claus': 4, 'Patty_Schnyder': 4, 'Mark_Schweiker': 2, 'Luiz_Felipe_Scolari': 2, 'Laila_Ali': 3, 'Cathy_Freeman': 2, 'Christopher_Walken': 4, 'Guillermo_Coria': 30, 'Kwon_Yang-sook': 3, 'Chita_Rivera': 2, 'Gordon_Campbell': 2, 'Barbara_Walters': 4, 'Queen_Rania': 5, 'Sebastian_Saja': 3, 'Hipolito_Mejia': 4, 'Valdas_Adamkus': 2, 'Fayssal_Mekdad': 4, 'Julianne_Moore': 19, 'Mariana_Pollack': 3, 'Yann_Martel': 2, 'Binyamin_Ben-Eliezer': 7, 'Orlando_Bloom': 3, 'Mel_Brooks': 2, 'Hassan_Nasrallah': 2, 'Jorge_Rodolfo_Canicoba_Corral': 2, 'George_Lopez': 5, 'Nicholas_Byron': 2, 'Jeremy_Greenstock': 24, 'Neri_Marcore': 2, 'Vitali_Klitschko': 4, 'Martin_Scorsese': 7, 'Mariah_Carey': 7, 'David_Spade': 2, 'John_Spencer': 2, 'Adrien_Brody': 12, 'Jennifer_Reilly': 2, 'Sammy_Sosa': 2, 'Edmund_Hillary': 3, 'Wayne_Ferreira': 5, 'Aicha_El_Ouafi': 3, 'Carlos_Manuel_Pruneda': 3, 'Ronaldo_Luis_Nazario_de_Lima': 4, 'LK_Advani': 3, 'Mitchell_Daniels': 4, 'Reggie_Miller': 2, 'Meghann_Shaughnessy': 2, 'Marcus_Gronholm': 2, 'Adam_Sandler': 4, 'Robert_Witt': 2, 'Gunter_Pleuger': 7, 'Sadie_Frost': 3, 'Mariangel_Ruiz_Torrealba': 3, 'Abdoulaye_Wade': 4, 'Gerry_Parsky': 2, 'Jason_Jennings': 2, 'Nancy_Reagan': 2}\n"
          ]
        }
      ]
    },
    {
      "cell_type": "markdown",
      "source": [
        "# Creating Triplets building dataloader and converting to torch tensors"
      ],
      "metadata": {
        "id": "3tdU6YfdtQSF"
      }
    },
    {
      "cell_type": "code",
      "source": [
        "import os\n",
        "\n",
        "# Creating triplets (anchor,positive,negative)\n",
        "def creating_triplets(directory, folder_list, max_files=20):\n",
        "    triplets = []\n",
        "    folders = list(folder_list.keys())\n",
        "\n",
        "    for folder in folders:\n",
        "        path = os.path.join(directory, folder)\n",
        "        files = os.listdir(path)\n",
        "        num_files = len(files)\n",
        "\n",
        "        if num_files < 2:\n",
        "            continue\n",
        "\n",
        "        for i in range(num_files-1):\n",
        "            for j in range(i+1, num_files):\n",
        "                anchor = (folder, f\"{i}.jpg\")\n",
        "                positive = (folder, f\"{j}.jpg\")\n",
        "\n",
        "                neg_folder = folder\n",
        "                while neg_folder == folder:\n",
        "                    neg_folder = random.choice(folders)\n",
        "                neg_file = random.randint(0, folder_list[neg_folder]-1)\n",
        "                negative = (neg_folder, f\"{neg_file}.jpg\")\n",
        "\n",
        "                triplets.append((anchor, positive, negative))\n",
        "\n",
        "    random.shuffle(triplets)\n",
        "    return triplets\n"
      ],
      "metadata": {
        "id": "cmL87PwZxHjN"
      },
      "execution_count": 18,
      "outputs": []
    },
    {
      "cell_type": "code",
      "source": [
        "train_triplet = creating_triplets(ROOT, train_list)\n",
        "test_triplet  = creating_triplets(ROOT, test_list)"
      ],
      "metadata": {
        "id": "nPdePJFDxMb9"
      },
      "execution_count": 19,
      "outputs": []
    },
    {
      "cell_type": "code",
      "source": [
        "print(\"Number of training triplets:\", len(train_triplet))\n",
        "print(\"Number of testing triplets :\", len(test_triplet))\n",
        "\n",
        "print(\"\\nExamples of triplets:\")\n",
        "for i in range(20):\n",
        "    print(train_triplet[i])\n"
      ],
      "metadata": {
        "colab": {
          "base_uri": "https://localhost:8080/"
        },
        "id": "jtl6-gHXxPLL",
        "outputId": "298fe1e5-3e5e-45b3-d9b4-48840d0e5744"
      },
      "execution_count": 20,
      "outputs": [
        {
          "output_type": "stream",
          "name": "stdout",
          "text": [
            "Number of training triplets: 230880\n",
            "Number of testing triplets : 11377\n",
            "\n",
            "Examples of triplets:\n",
            "(('George_W_Bush', '448.jpg'), ('George_W_Bush', '471.jpg'), ('Robert_Kocharian', '2.jpg'))\n",
            "(('George_W_Bush', '29.jpg'), ('George_W_Bush', '370.jpg'), ('Joan_Claybrook', '1.jpg'))\n",
            "(('George_W_Bush', '252.jpg'), ('George_W_Bush', '343.jpg'), ('Anthony_Hopkins', '0.jpg'))\n",
            "(('George_W_Bush', '326.jpg'), ('George_W_Bush', '386.jpg'), ('Tracy_McGrady', '1.jpg'))\n",
            "(('Colin_Powell', '168.jpg'), ('Colin_Powell', '202.jpg'), ('Theresa_May', '1.jpg'))\n",
            "(('George_W_Bush', '8.jpg'), ('George_W_Bush', '129.jpg'), ('Jamie_Villafane', '0.jpg'))\n",
            "(('Colin_Powell', '81.jpg'), ('Colin_Powell', '221.jpg'), ('Carlos_Ortega', '1.jpg'))\n",
            "(('George_W_Bush', '131.jpg'), ('George_W_Bush', '298.jpg'), ('Aleksander_Kwasniewski', '2.jpg'))\n",
            "(('George_W_Bush', '422.jpg'), ('George_W_Bush', '495.jpg'), ('Joerg_Haider', '0.jpg'))\n",
            "(('George_W_Bush', '147.jpg'), ('George_W_Bush', '376.jpg'), ('Kalpana_Chawla', '2.jpg'))\n",
            "(('George_W_Bush', '67.jpg'), ('George_W_Bush', '248.jpg'), ('Jean-Pierre_Raffarin', '1.jpg'))\n",
            "(('George_W_Bush', '126.jpg'), ('George_W_Bush', '459.jpg'), ('Gilberto_Rodriguez_Orejuela', '2.jpg'))\n",
            "(('George_W_Bush', '342.jpg'), ('George_W_Bush', '442.jpg'), ('Guillermo_Ortiz', '0.jpg'))\n",
            "(('George_W_Bush', '216.jpg'), ('George_W_Bush', '491.jpg'), ('Margaret_Thatcher', '1.jpg'))\n",
            "(('George_W_Bush', '111.jpg'), ('George_W_Bush', '305.jpg'), ('Colin_Powell', '140.jpg'))\n",
            "(('Donald_Rumsfeld', '81.jpg'), ('Donald_Rumsfeld', '103.jpg'), ('Marie-Reine_Le_Gougne', '1.jpg'))\n",
            "(('George_W_Bush', '267.jpg'), ('George_W_Bush', '295.jpg'), ('Heidi_Fleiss', '3.jpg'))\n",
            "(('George_W_Bush', '42.jpg'), ('George_W_Bush', '234.jpg'), ('Faye_Dunaway', '2.jpg'))\n",
            "(('George_W_Bush', '150.jpg'), ('George_W_Bush', '436.jpg'), ('Boris_Becker', '2.jpg'))\n",
            "(('Colin_Powell', '191.jpg'), ('Colin_Powell', '200.jpg'), ('Filippo_Inzaghi', '1.jpg'))\n"
          ]
        }
      ]
    },
    {
      "cell_type": "code",
      "source": [
        "# creating a custom dataset class for the triplets dataset\n",
        "import torch\n",
        "import os\n",
        "from PIL import Image\n",
        "from torch.utils.data import Dataset\n",
        "import torchvision.transforms as transforms\n",
        "\n",
        "\n",
        "class TripletDataset(Dataset):\n",
        "    def __init__(self, directory, triplet_list, transform=None):\n",
        "        self.directory = directory\n",
        "        self.triplet_list = triplet_list\n",
        "        self.transform = transform\n",
        "\n",
        "    def __len__(self):\n",
        "        return len(self.triplet_list)\n",
        "\n",
        "    def __getitem__(self, index):\n",
        "        anchor, positive, negative = self.triplet_list[index]\n",
        "\n",
        "        anchor_path = os.path.join(self.directory, anchor[0], anchor[1])\n",
        "        positive_path = os.path.join(self.directory, positive[0], positive[1])\n",
        "        negative_path = os.path.join(self.directory, negative[0], negative[1])\n",
        "\n",
        "        anchor_img = Image.open(anchor_path).convert(\"RGB\")\n",
        "        positive_img = Image.open(positive_path).convert(\"RGB\")\n",
        "        negative_img = Image.open(negative_path).convert(\"RGB\")\n",
        "\n",
        "        if self.transform is not None:\n",
        "            anchor_img = self.transform(anchor_img)\n",
        "            positive_img = self.transform(positive_img)\n",
        "            negative_img = self.transform(negative_img)\n",
        "\n",
        "        return anchor_img, positive_img, negative_img\n",
        "\n"
      ],
      "metadata": {
        "id": "aV_wsX39xTOT"
      },
      "execution_count": 21,
      "outputs": []
    },
    {
      "cell_type": "code",
      "source": [
        "tripletDataset1 = TripletDataset(\n",
        "    ROOT,\n",
        "    train_triplet,\n",
        "    transform=transforms.Compose(\n",
        "        [\n",
        "            transforms.Resize((224, 224)),\n",
        "            transforms.CenterCrop(224),\n",
        "            transforms.ToTensor(),\n",
        "            transforms.Normalize(mean=[0.485, 0.456, 0.406], std=[0.229, 0.224, 0.225]),\n",
        "        ]\n",
        "    ),\n",
        ")\n",
        "tripletDataset2 = TripletDataset(\n",
        "    ROOT,\n",
        "    test_triplet,\n",
        "    transform=transforms.Compose(\n",
        "        [\n",
        "            transforms.Resize((224, 224)),\n",
        "            transforms.CenterCrop(224),\n",
        "            transforms.ToTensor(),\n",
        "            transforms.Normalize(mean=[0.485, 0.456, 0.406], std=[0.229, 0.224, 0.225]),\n",
        "        ]\n",
        "    ),\n",
        ")"
      ],
      "metadata": {
        "id": "zim0li4RsF92"
      },
      "execution_count": 22,
      "outputs": []
    },
    {
      "cell_type": "code",
      "source": [
        "tripletDataset1 = torch.load('tripletDataset1.pt')\n",
        "tripletDataset2 = torch.load('tripletDataset2.pt')"
      ],
      "metadata": {
        "id": "EqrE1tJMUWWV"
      },
      "execution_count": 8,
      "outputs": []
    },
    {
      "cell_type": "code",
      "source": [
        "trainLoader = torch.utils.data.DataLoader(\n",
        "    tripletDataset1, batch_size=64, shuffle=True, num_workers=2\n",
        ")\n",
        "testLoader = torch.utils.data.DataLoader(\n",
        "    tripletDataset2, batch_size=64, shuffle=True, num_workers=2\n",
        ")\n"
      ],
      "metadata": {
        "id": "k0Bu-ORGsp3a"
      },
      "execution_count": 23,
      "outputs": []
    },
    {
      "cell_type": "markdown",
      "source": [
        "# Building the Siamese Network using Pretrained Resnet and custom layers"
      ],
      "metadata": {
        "id": "9f893hvctE7M"
      }
    },
    {
      "cell_type": "code",
      "source": [
        "\n",
        "class SiameseNetwork(nn.Module):\n",
        "    def __init__(self, num_hidden_units_fc1=256, num_hidden_units_fc2=128):\n",
        "        super(SiameseNetwork, self).__init__()\n",
        "        self.resnet = models.resnet50(pretrained=True)\n",
        "        for param in self.resnet.parameters():\n",
        "            param.requires_grad = False  # Make the ResNet layers non-trainable\n",
        "\n",
        "        self.resnet.fc = nn.Linear(2048, num_hidden_units_fc1)\n",
        "        self.fc1 = nn.Linear(num_hidden_units_fc1, num_hidden_units_fc2)\n",
        "        self.fc2 = nn.Linear(num_hidden_units_fc2, 2)\n",
        "\n",
        "    def forward(self, x):\n",
        "        x = self.resnet(x)\n",
        "        x = F.relu(self.fc1(x))\n",
        "        x = self.fc2(x)\n",
        "        return x\n",
        "\n",
        "siamese = SiameseNetwork()\n",
        "print(siamese)\n"
      ],
      "metadata": {
        "id": "Abpmls13U2LL",
        "colab": {
          "base_uri": "https://localhost:8080/"
        },
        "outputId": "7090df6a-559b-4b02-aa07-34231fbe8f8e"
      },
      "execution_count": 36,
      "outputs": [
        {
          "output_type": "stream",
          "name": "stdout",
          "text": [
            "SiameseNetwork(\n",
            "  (resnet): ResNet(\n",
            "    (conv1): Conv2d(3, 64, kernel_size=(7, 7), stride=(2, 2), padding=(3, 3), bias=False)\n",
            "    (bn1): BatchNorm2d(64, eps=1e-05, momentum=0.1, affine=True, track_running_stats=True)\n",
            "    (relu): ReLU(inplace=True)\n",
            "    (maxpool): MaxPool2d(kernel_size=3, stride=2, padding=1, dilation=1, ceil_mode=False)\n",
            "    (layer1): Sequential(\n",
            "      (0): Bottleneck(\n",
            "        (conv1): Conv2d(64, 64, kernel_size=(1, 1), stride=(1, 1), bias=False)\n",
            "        (bn1): BatchNorm2d(64, eps=1e-05, momentum=0.1, affine=True, track_running_stats=True)\n",
            "        (conv2): Conv2d(64, 64, kernel_size=(3, 3), stride=(1, 1), padding=(1, 1), bias=False)\n",
            "        (bn2): BatchNorm2d(64, eps=1e-05, momentum=0.1, affine=True, track_running_stats=True)\n",
            "        (conv3): Conv2d(64, 256, kernel_size=(1, 1), stride=(1, 1), bias=False)\n",
            "        (bn3): BatchNorm2d(256, eps=1e-05, momentum=0.1, affine=True, track_running_stats=True)\n",
            "        (relu): ReLU(inplace=True)\n",
            "        (downsample): Sequential(\n",
            "          (0): Conv2d(64, 256, kernel_size=(1, 1), stride=(1, 1), bias=False)\n",
            "          (1): BatchNorm2d(256, eps=1e-05, momentum=0.1, affine=True, track_running_stats=True)\n",
            "        )\n",
            "      )\n",
            "      (1): Bottleneck(\n",
            "        (conv1): Conv2d(256, 64, kernel_size=(1, 1), stride=(1, 1), bias=False)\n",
            "        (bn1): BatchNorm2d(64, eps=1e-05, momentum=0.1, affine=True, track_running_stats=True)\n",
            "        (conv2): Conv2d(64, 64, kernel_size=(3, 3), stride=(1, 1), padding=(1, 1), bias=False)\n",
            "        (bn2): BatchNorm2d(64, eps=1e-05, momentum=0.1, affine=True, track_running_stats=True)\n",
            "        (conv3): Conv2d(64, 256, kernel_size=(1, 1), stride=(1, 1), bias=False)\n",
            "        (bn3): BatchNorm2d(256, eps=1e-05, momentum=0.1, affine=True, track_running_stats=True)\n",
            "        (relu): ReLU(inplace=True)\n",
            "      )\n",
            "      (2): Bottleneck(\n",
            "        (conv1): Conv2d(256, 64, kernel_size=(1, 1), stride=(1, 1), bias=False)\n",
            "        (bn1): BatchNorm2d(64, eps=1e-05, momentum=0.1, affine=True, track_running_stats=True)\n",
            "        (conv2): Conv2d(64, 64, kernel_size=(3, 3), stride=(1, 1), padding=(1, 1), bias=False)\n",
            "        (bn2): BatchNorm2d(64, eps=1e-05, momentum=0.1, affine=True, track_running_stats=True)\n",
            "        (conv3): Conv2d(64, 256, kernel_size=(1, 1), stride=(1, 1), bias=False)\n",
            "        (bn3): BatchNorm2d(256, eps=1e-05, momentum=0.1, affine=True, track_running_stats=True)\n",
            "        (relu): ReLU(inplace=True)\n",
            "      )\n",
            "    )\n",
            "    (layer2): Sequential(\n",
            "      (0): Bottleneck(\n",
            "        (conv1): Conv2d(256, 128, kernel_size=(1, 1), stride=(1, 1), bias=False)\n",
            "        (bn1): BatchNorm2d(128, eps=1e-05, momentum=0.1, affine=True, track_running_stats=True)\n",
            "        (conv2): Conv2d(128, 128, kernel_size=(3, 3), stride=(2, 2), padding=(1, 1), bias=False)\n",
            "        (bn2): BatchNorm2d(128, eps=1e-05, momentum=0.1, affine=True, track_running_stats=True)\n",
            "        (conv3): Conv2d(128, 512, kernel_size=(1, 1), stride=(1, 1), bias=False)\n",
            "        (bn3): BatchNorm2d(512, eps=1e-05, momentum=0.1, affine=True, track_running_stats=True)\n",
            "        (relu): ReLU(inplace=True)\n",
            "        (downsample): Sequential(\n",
            "          (0): Conv2d(256, 512, kernel_size=(1, 1), stride=(2, 2), bias=False)\n",
            "          (1): BatchNorm2d(512, eps=1e-05, momentum=0.1, affine=True, track_running_stats=True)\n",
            "        )\n",
            "      )\n",
            "      (1): Bottleneck(\n",
            "        (conv1): Conv2d(512, 128, kernel_size=(1, 1), stride=(1, 1), bias=False)\n",
            "        (bn1): BatchNorm2d(128, eps=1e-05, momentum=0.1, affine=True, track_running_stats=True)\n",
            "        (conv2): Conv2d(128, 128, kernel_size=(3, 3), stride=(1, 1), padding=(1, 1), bias=False)\n",
            "        (bn2): BatchNorm2d(128, eps=1e-05, momentum=0.1, affine=True, track_running_stats=True)\n",
            "        (conv3): Conv2d(128, 512, kernel_size=(1, 1), stride=(1, 1), bias=False)\n",
            "        (bn3): BatchNorm2d(512, eps=1e-05, momentum=0.1, affine=True, track_running_stats=True)\n",
            "        (relu): ReLU(inplace=True)\n",
            "      )\n",
            "      (2): Bottleneck(\n",
            "        (conv1): Conv2d(512, 128, kernel_size=(1, 1), stride=(1, 1), bias=False)\n",
            "        (bn1): BatchNorm2d(128, eps=1e-05, momentum=0.1, affine=True, track_running_stats=True)\n",
            "        (conv2): Conv2d(128, 128, kernel_size=(3, 3), stride=(1, 1), padding=(1, 1), bias=False)\n",
            "        (bn2): BatchNorm2d(128, eps=1e-05, momentum=0.1, affine=True, track_running_stats=True)\n",
            "        (conv3): Conv2d(128, 512, kernel_size=(1, 1), stride=(1, 1), bias=False)\n",
            "        (bn3): BatchNorm2d(512, eps=1e-05, momentum=0.1, affine=True, track_running_stats=True)\n",
            "        (relu): ReLU(inplace=True)\n",
            "      )\n",
            "      (3): Bottleneck(\n",
            "        (conv1): Conv2d(512, 128, kernel_size=(1, 1), stride=(1, 1), bias=False)\n",
            "        (bn1): BatchNorm2d(128, eps=1e-05, momentum=0.1, affine=True, track_running_stats=True)\n",
            "        (conv2): Conv2d(128, 128, kernel_size=(3, 3), stride=(1, 1), padding=(1, 1), bias=False)\n",
            "        (bn2): BatchNorm2d(128, eps=1e-05, momentum=0.1, affine=True, track_running_stats=True)\n",
            "        (conv3): Conv2d(128, 512, kernel_size=(1, 1), stride=(1, 1), bias=False)\n",
            "        (bn3): BatchNorm2d(512, eps=1e-05, momentum=0.1, affine=True, track_running_stats=True)\n",
            "        (relu): ReLU(inplace=True)\n",
            "      )\n",
            "    )\n",
            "    (layer3): Sequential(\n",
            "      (0): Bottleneck(\n",
            "        (conv1): Conv2d(512, 256, kernel_size=(1, 1), stride=(1, 1), bias=False)\n",
            "        (bn1): BatchNorm2d(256, eps=1e-05, momentum=0.1, affine=True, track_running_stats=True)\n",
            "        (conv2): Conv2d(256, 256, kernel_size=(3, 3), stride=(2, 2), padding=(1, 1), bias=False)\n",
            "        (bn2): BatchNorm2d(256, eps=1e-05, momentum=0.1, affine=True, track_running_stats=True)\n",
            "        (conv3): Conv2d(256, 1024, kernel_size=(1, 1), stride=(1, 1), bias=False)\n",
            "        (bn3): BatchNorm2d(1024, eps=1e-05, momentum=0.1, affine=True, track_running_stats=True)\n",
            "        (relu): ReLU(inplace=True)\n",
            "        (downsample): Sequential(\n",
            "          (0): Conv2d(512, 1024, kernel_size=(1, 1), stride=(2, 2), bias=False)\n",
            "          (1): BatchNorm2d(1024, eps=1e-05, momentum=0.1, affine=True, track_running_stats=True)\n",
            "        )\n",
            "      )\n",
            "      (1): Bottleneck(\n",
            "        (conv1): Conv2d(1024, 256, kernel_size=(1, 1), stride=(1, 1), bias=False)\n",
            "        (bn1): BatchNorm2d(256, eps=1e-05, momentum=0.1, affine=True, track_running_stats=True)\n",
            "        (conv2): Conv2d(256, 256, kernel_size=(3, 3), stride=(1, 1), padding=(1, 1), bias=False)\n",
            "        (bn2): BatchNorm2d(256, eps=1e-05, momentum=0.1, affine=True, track_running_stats=True)\n",
            "        (conv3): Conv2d(256, 1024, kernel_size=(1, 1), stride=(1, 1), bias=False)\n",
            "        (bn3): BatchNorm2d(1024, eps=1e-05, momentum=0.1, affine=True, track_running_stats=True)\n",
            "        (relu): ReLU(inplace=True)\n",
            "      )\n",
            "      (2): Bottleneck(\n",
            "        (conv1): Conv2d(1024, 256, kernel_size=(1, 1), stride=(1, 1), bias=False)\n",
            "        (bn1): BatchNorm2d(256, eps=1e-05, momentum=0.1, affine=True, track_running_stats=True)\n",
            "        (conv2): Conv2d(256, 256, kernel_size=(3, 3), stride=(1, 1), padding=(1, 1), bias=False)\n",
            "        (bn2): BatchNorm2d(256, eps=1e-05, momentum=0.1, affine=True, track_running_stats=True)\n",
            "        (conv3): Conv2d(256, 1024, kernel_size=(1, 1), stride=(1, 1), bias=False)\n",
            "        (bn3): BatchNorm2d(1024, eps=1e-05, momentum=0.1, affine=True, track_running_stats=True)\n",
            "        (relu): ReLU(inplace=True)\n",
            "      )\n",
            "      (3): Bottleneck(\n",
            "        (conv1): Conv2d(1024, 256, kernel_size=(1, 1), stride=(1, 1), bias=False)\n",
            "        (bn1): BatchNorm2d(256, eps=1e-05, momentum=0.1, affine=True, track_running_stats=True)\n",
            "        (conv2): Conv2d(256, 256, kernel_size=(3, 3), stride=(1, 1), padding=(1, 1), bias=False)\n",
            "        (bn2): BatchNorm2d(256, eps=1e-05, momentum=0.1, affine=True, track_running_stats=True)\n",
            "        (conv3): Conv2d(256, 1024, kernel_size=(1, 1), stride=(1, 1), bias=False)\n",
            "        (bn3): BatchNorm2d(1024, eps=1e-05, momentum=0.1, affine=True, track_running_stats=True)\n",
            "        (relu): ReLU(inplace=True)\n",
            "      )\n",
            "      (4): Bottleneck(\n",
            "        (conv1): Conv2d(1024, 256, kernel_size=(1, 1), stride=(1, 1), bias=False)\n",
            "        (bn1): BatchNorm2d(256, eps=1e-05, momentum=0.1, affine=True, track_running_stats=True)\n",
            "        (conv2): Conv2d(256, 256, kernel_size=(3, 3), stride=(1, 1), padding=(1, 1), bias=False)\n",
            "        (bn2): BatchNorm2d(256, eps=1e-05, momentum=0.1, affine=True, track_running_stats=True)\n",
            "        (conv3): Conv2d(256, 1024, kernel_size=(1, 1), stride=(1, 1), bias=False)\n",
            "        (bn3): BatchNorm2d(1024, eps=1e-05, momentum=0.1, affine=True, track_running_stats=True)\n",
            "        (relu): ReLU(inplace=True)\n",
            "      )\n",
            "      (5): Bottleneck(\n",
            "        (conv1): Conv2d(1024, 256, kernel_size=(1, 1), stride=(1, 1), bias=False)\n",
            "        (bn1): BatchNorm2d(256, eps=1e-05, momentum=0.1, affine=True, track_running_stats=True)\n",
            "        (conv2): Conv2d(256, 256, kernel_size=(3, 3), stride=(1, 1), padding=(1, 1), bias=False)\n",
            "        (bn2): BatchNorm2d(256, eps=1e-05, momentum=0.1, affine=True, track_running_stats=True)\n",
            "        (conv3): Conv2d(256, 1024, kernel_size=(1, 1), stride=(1, 1), bias=False)\n",
            "        (bn3): BatchNorm2d(1024, eps=1e-05, momentum=0.1, affine=True, track_running_stats=True)\n",
            "        (relu): ReLU(inplace=True)\n",
            "      )\n",
            "    )\n",
            "    (layer4): Sequential(\n",
            "      (0): Bottleneck(\n",
            "        (conv1): Conv2d(1024, 512, kernel_size=(1, 1), stride=(1, 1), bias=False)\n",
            "        (bn1): BatchNorm2d(512, eps=1e-05, momentum=0.1, affine=True, track_running_stats=True)\n",
            "        (conv2): Conv2d(512, 512, kernel_size=(3, 3), stride=(2, 2), padding=(1, 1), bias=False)\n",
            "        (bn2): BatchNorm2d(512, eps=1e-05, momentum=0.1, affine=True, track_running_stats=True)\n",
            "        (conv3): Conv2d(512, 2048, kernel_size=(1, 1), stride=(1, 1), bias=False)\n",
            "        (bn3): BatchNorm2d(2048, eps=1e-05, momentum=0.1, affine=True, track_running_stats=True)\n",
            "        (relu): ReLU(inplace=True)\n",
            "        (downsample): Sequential(\n",
            "          (0): Conv2d(1024, 2048, kernel_size=(1, 1), stride=(2, 2), bias=False)\n",
            "          (1): BatchNorm2d(2048, eps=1e-05, momentum=0.1, affine=True, track_running_stats=True)\n",
            "        )\n",
            "      )\n",
            "      (1): Bottleneck(\n",
            "        (conv1): Conv2d(2048, 512, kernel_size=(1, 1), stride=(1, 1), bias=False)\n",
            "        (bn1): BatchNorm2d(512, eps=1e-05, momentum=0.1, affine=True, track_running_stats=True)\n",
            "        (conv2): Conv2d(512, 512, kernel_size=(3, 3), stride=(1, 1), padding=(1, 1), bias=False)\n",
            "        (bn2): BatchNorm2d(512, eps=1e-05, momentum=0.1, affine=True, track_running_stats=True)\n",
            "        (conv3): Conv2d(512, 2048, kernel_size=(1, 1), stride=(1, 1), bias=False)\n",
            "        (bn3): BatchNorm2d(2048, eps=1e-05, momentum=0.1, affine=True, track_running_stats=True)\n",
            "        (relu): ReLU(inplace=True)\n",
            "      )\n",
            "      (2): Bottleneck(\n",
            "        (conv1): Conv2d(2048, 512, kernel_size=(1, 1), stride=(1, 1), bias=False)\n",
            "        (bn1): BatchNorm2d(512, eps=1e-05, momentum=0.1, affine=True, track_running_stats=True)\n",
            "        (conv2): Conv2d(512, 512, kernel_size=(3, 3), stride=(1, 1), padding=(1, 1), bias=False)\n",
            "        (bn2): BatchNorm2d(512, eps=1e-05, momentum=0.1, affine=True, track_running_stats=True)\n",
            "        (conv3): Conv2d(512, 2048, kernel_size=(1, 1), stride=(1, 1), bias=False)\n",
            "        (bn3): BatchNorm2d(2048, eps=1e-05, momentum=0.1, affine=True, track_running_stats=True)\n",
            "        (relu): ReLU(inplace=True)\n",
            "      )\n",
            "    )\n",
            "    (avgpool): AdaptiveAvgPool2d(output_size=(1, 1))\n",
            "    (fc): Linear(in_features=2048, out_features=256, bias=True)\n",
            "  )\n",
            "  (fc1): Linear(in_features=256, out_features=128, bias=True)\n",
            "  (fc2): Linear(in_features=128, out_features=2, bias=True)\n",
            ")\n"
          ]
        }
      ]
    },
    {
      "cell_type": "markdown",
      "source": [
        "## Custom loss function for **triplet loss** as we are using triplets instead or regular (Anchor and Positive)"
      ],
      "metadata": {
        "id": "ysQ4dMJ9s2MF"
      }
    },
    {
      "cell_type": "code",
      "source": [
        "\n",
        "\n",
        "class TripletLoss(nn.Module):\n",
        "    def __init__(self, margin=1.0):\n",
        "        super(TripletLoss, self).__init__()\n",
        "        self.margin = margin\n",
        "\n",
        "    def forward(self, anchor, positive, negative):\n",
        "        distance_positive = F.pairwise_distance(anchor, positive)\n",
        "        distance_negative = F.pairwise_distance(anchor, negative)\n",
        "        losses = torch.relu(distance_positive - distance_negative + self.margin)\n",
        "        return losses.mean()\n",
        "\n",
        "triplet_loss = TripletLoss()"
      ],
      "metadata": {
        "id": "hvTXxjZEpO90"
      },
      "execution_count": 37,
      "outputs": []
    },
    {
      "cell_type": "markdown",
      "source": [
        "#Function for Training the Siamese Network and using the custom loss function to minimize"
      ],
      "metadata": {
        "id": "gJ6vbTOBuCmO"
      }
    },
    {
      "cell_type": "code",
      "source": [
        "import torch.optim as optim\n",
        "\n",
        "optimizer = optim.Adam(siamese.parameters(), lr=0.001)\n",
        "device = torch.device(\"cuda\" if torch.cuda.is_available() else \"cpu\")\n",
        "\n",
        "\n",
        "# Move your Siamese network and optimizer to the same device\n",
        "siamese.to(device)\n",
        "# create a function to train the model\n",
        "#optimizer = optimizer.to(device)\n",
        "\n",
        "def train_siamese(model, train_loader, optimizer, epoch, log_interval=100):\n",
        "    model.train()\n",
        "    losses = []\n",
        "    total_loss = 0\n",
        "    for batch_idx, (anchor, positive, negative) in enumerate(train_loader):\n",
        "        anchor, positive, negative = anchor.to(device), positive.to(device), negative.to(device)\n",
        "        optimizer.zero_grad()\n",
        "        anchor = anchor.to(device)\n",
        "        positive = positive.to(device)\n",
        "        negative = negative.to(device)\n",
        "\n",
        "        # Forward pass\n",
        "        anchor_output = model(anchor)\n",
        "        positive_output = model(positive)\n",
        "        negative_output = model(negative)\n",
        "\n",
        "\n",
        "        # Calculate the triplet loss\n",
        "        loss = triplet_loss(anchor_output, positive_output, negative_output)\n",
        "\n",
        "        # Backpropagation and optimization\n",
        "        loss.backward()\n",
        "        optimizer.step()\n",
        "\n",
        "        total_loss += loss.item()\n",
        "        if batch_idx % log_interval == 0:\n",
        "            print(\n",
        "                \"Train Epoch: {} [{}/{} ({:.0f}%)]\\tLoss: {:.6f}\".format(\n",
        "                    epoch,\n",
        "                    batch_idx * len(anchor),\n",
        "                    len(train_loader.dataset),\n",
        "                    100.0 * batch_idx / len(train_loader),\n",
        "                    loss.item(),\n",
        "                )\n",
        "            )\n",
        "            losses.append(total_loss / log_interval)\n",
        "            total_loss = 0\n",
        "    return losses\n",
        "\n"
      ],
      "metadata": {
        "id": "OfWhwuvCpc2h"
      },
      "execution_count": 38,
      "outputs": []
    },
    {
      "cell_type": "code",
      "source": [
        "# training the model\n",
        "import torch\n",
        "import torch.nn as nn\n",
        "import torch.nn.functional as F\n",
        "\n",
        "device = torch.device(\"cuda\" if torch.cuda.is_available() else \"cpu\")\n",
        "print(\"Device:\", device)\n",
        "\n",
        "num_epochs = 3\n",
        "log_interval = 100\n",
        "\n",
        "train_losses = []\n",
        "for epoch in range(1, num_epochs + 1):\n",
        "    train_loss = train_siamese(siamese, trainLoader, optimizer, epoch, log_interval)\n",
        "    train_losses.extend(train_loss)\n",
        "\n",
        "# plot the training loss\n",
        "plt.plot(train_losses)"
      ],
      "metadata": {
        "colab": {
          "base_uri": "https://localhost:8080/",
          "height": 1000
        },
        "id": "kCkEV3yNpf_H",
        "outputId": "793cec93-4380-47ae-c97a-b35f71f51b36"
      },
      "execution_count": 44,
      "outputs": [
        {
          "output_type": "stream",
          "name": "stdout",
          "text": [
            "Device: cuda\n",
            "Train Epoch: 1 [0/230880 (0%)]\tLoss: 0.056469\n",
            "Train Epoch: 1 [6400/230880 (3%)]\tLoss: 0.085551\n",
            "Train Epoch: 1 [12800/230880 (6%)]\tLoss: 0.093557\n",
            "Train Epoch: 1 [19200/230880 (8%)]\tLoss: 0.062992\n",
            "Train Epoch: 1 [25600/230880 (11%)]\tLoss: 0.086378\n",
            "Train Epoch: 1 [32000/230880 (14%)]\tLoss: 0.137659\n",
            "Train Epoch: 1 [38400/230880 (17%)]\tLoss: 0.064453\n",
            "Train Epoch: 1 [44800/230880 (19%)]\tLoss: 0.040658\n",
            "Train Epoch: 1 [51200/230880 (22%)]\tLoss: 0.034887\n",
            "Train Epoch: 1 [57600/230880 (25%)]\tLoss: 0.086143\n",
            "Train Epoch: 1 [64000/230880 (28%)]\tLoss: 0.045453\n",
            "Train Epoch: 1 [70400/230880 (30%)]\tLoss: 0.039678\n",
            "Train Epoch: 1 [76800/230880 (33%)]\tLoss: 0.098527\n",
            "Train Epoch: 1 [83200/230880 (36%)]\tLoss: 0.049552\n",
            "Train Epoch: 1 [89600/230880 (39%)]\tLoss: 0.007653\n",
            "Train Epoch: 1 [96000/230880 (42%)]\tLoss: 0.003645\n",
            "Train Epoch: 1 [102400/230880 (44%)]\tLoss: 0.024793\n",
            "Train Epoch: 1 [108800/230880 (47%)]\tLoss: 0.059347\n",
            "Train Epoch: 1 [115200/230880 (50%)]\tLoss: 0.174308\n",
            "Train Epoch: 1 [121600/230880 (53%)]\tLoss: 0.093671\n",
            "Train Epoch: 1 [128000/230880 (55%)]\tLoss: 0.043182\n",
            "Train Epoch: 1 [134400/230880 (58%)]\tLoss: 0.046822\n",
            "Train Epoch: 1 [140800/230880 (61%)]\tLoss: 0.114339\n",
            "Train Epoch: 1 [147200/230880 (64%)]\tLoss: 0.055915\n",
            "Train Epoch: 1 [153600/230880 (67%)]\tLoss: 0.114523\n",
            "Train Epoch: 1 [160000/230880 (69%)]\tLoss: 0.062067\n",
            "Train Epoch: 1 [166400/230880 (72%)]\tLoss: 0.244703\n",
            "Train Epoch: 1 [172800/230880 (75%)]\tLoss: 0.088986\n",
            "Train Epoch: 1 [179200/230880 (78%)]\tLoss: 0.072634\n",
            "Train Epoch: 1 [185600/230880 (80%)]\tLoss: 0.091457\n",
            "Train Epoch: 1 [192000/230880 (83%)]\tLoss: 0.060085\n",
            "Train Epoch: 1 [198400/230880 (86%)]\tLoss: 0.021855\n",
            "Train Epoch: 1 [204800/230880 (89%)]\tLoss: 0.207070\n",
            "Train Epoch: 1 [211200/230880 (91%)]\tLoss: 0.046613\n",
            "Train Epoch: 1 [217600/230880 (94%)]\tLoss: 0.071573\n",
            "Train Epoch: 1 [224000/230880 (97%)]\tLoss: 0.078073\n",
            "Train Epoch: 1 [230400/230880 (100%)]\tLoss: 0.050860\n",
            "Train Epoch: 2 [0/230880 (0%)]\tLoss: 0.030543\n",
            "Train Epoch: 2 [6400/230880 (3%)]\tLoss: 0.050432\n",
            "Train Epoch: 2 [12800/230880 (6%)]\tLoss: 0.127819\n",
            "Train Epoch: 2 [19200/230880 (8%)]\tLoss: 0.008754\n",
            "Train Epoch: 2 [25600/230880 (11%)]\tLoss: 0.068421\n",
            "Train Epoch: 2 [32000/230880 (14%)]\tLoss: 0.052924\n",
            "Train Epoch: 2 [38400/230880 (17%)]\tLoss: 0.000000\n",
            "Train Epoch: 2 [44800/230880 (19%)]\tLoss: 0.033135\n",
            "Train Epoch: 2 [51200/230880 (22%)]\tLoss: 0.049857\n",
            "Train Epoch: 2 [57600/230880 (25%)]\tLoss: 0.345533\n",
            "Train Epoch: 2 [64000/230880 (28%)]\tLoss: 0.146752\n",
            "Train Epoch: 2 [70400/230880 (30%)]\tLoss: 0.165483\n",
            "Train Epoch: 2 [76800/230880 (33%)]\tLoss: 0.057255\n",
            "Train Epoch: 2 [83200/230880 (36%)]\tLoss: 0.024278\n",
            "Train Epoch: 2 [89600/230880 (39%)]\tLoss: 0.133328\n",
            "Train Epoch: 2 [96000/230880 (42%)]\tLoss: 0.013206\n",
            "Train Epoch: 2 [102400/230880 (44%)]\tLoss: 0.021857\n",
            "Train Epoch: 2 [108800/230880 (47%)]\tLoss: 0.034182\n",
            "Train Epoch: 2 [115200/230880 (50%)]\tLoss: 0.083631\n",
            "Train Epoch: 2 [121600/230880 (53%)]\tLoss: 0.139198\n",
            "Train Epoch: 2 [128000/230880 (55%)]\tLoss: 0.032470\n",
            "Train Epoch: 2 [134400/230880 (58%)]\tLoss: 0.092514\n",
            "Train Epoch: 2 [140800/230880 (61%)]\tLoss: 0.095007\n",
            "Train Epoch: 2 [147200/230880 (64%)]\tLoss: 0.003183\n",
            "Train Epoch: 2 [153600/230880 (67%)]\tLoss: 0.163899\n",
            "Train Epoch: 2 [160000/230880 (69%)]\tLoss: 0.113010\n",
            "Train Epoch: 2 [166400/230880 (72%)]\tLoss: 0.034434\n",
            "Train Epoch: 2 [172800/230880 (75%)]\tLoss: 0.082024\n",
            "Train Epoch: 2 [179200/230880 (78%)]\tLoss: 0.033993\n",
            "Train Epoch: 2 [185600/230880 (80%)]\tLoss: 0.045638\n",
            "Train Epoch: 2 [192000/230880 (83%)]\tLoss: 0.084351\n",
            "Train Epoch: 2 [198400/230880 (86%)]\tLoss: 0.024898\n",
            "Train Epoch: 2 [204800/230880 (89%)]\tLoss: 0.047796\n",
            "Train Epoch: 2 [211200/230880 (91%)]\tLoss: 0.097757\n",
            "Train Epoch: 2 [217600/230880 (94%)]\tLoss: 0.021778\n",
            "Train Epoch: 2 [224000/230880 (97%)]\tLoss: 0.066905\n",
            "Train Epoch: 2 [230400/230880 (100%)]\tLoss: 0.023404\n",
            "Train Epoch: 3 [0/230880 (0%)]\tLoss: 0.208482\n",
            "Train Epoch: 3 [6400/230880 (3%)]\tLoss: 0.041229\n",
            "Train Epoch: 3 [12800/230880 (6%)]\tLoss: 0.070074\n",
            "Train Epoch: 3 [19200/230880 (8%)]\tLoss: 0.134951\n",
            "Train Epoch: 3 [25600/230880 (11%)]\tLoss: 0.021102\n",
            "Train Epoch: 3 [32000/230880 (14%)]\tLoss: 0.114221\n",
            "Train Epoch: 3 [38400/230880 (17%)]\tLoss: 0.050856\n",
            "Train Epoch: 3 [44800/230880 (19%)]\tLoss: 0.087312\n",
            "Train Epoch: 3 [51200/230880 (22%)]\tLoss: 0.059933\n",
            "Train Epoch: 3 [57600/230880 (25%)]\tLoss: 0.061405\n",
            "Train Epoch: 3 [64000/230880 (28%)]\tLoss: 0.017206\n",
            "Train Epoch: 3 [70400/230880 (30%)]\tLoss: 0.004322\n",
            "Train Epoch: 3 [76800/230880 (33%)]\tLoss: 0.091410\n",
            "Train Epoch: 3 [83200/230880 (36%)]\tLoss: 0.046517\n",
            "Train Epoch: 3 [89600/230880 (39%)]\tLoss: 0.088891\n",
            "Train Epoch: 3 [96000/230880 (42%)]\tLoss: 0.082539\n",
            "Train Epoch: 3 [102400/230880 (44%)]\tLoss: 0.020770\n",
            "Train Epoch: 3 [108800/230880 (47%)]\tLoss: 0.041420\n",
            "Train Epoch: 3 [115200/230880 (50%)]\tLoss: 0.024154\n",
            "Train Epoch: 3 [121600/230880 (53%)]\tLoss: 0.023323\n",
            "Train Epoch: 3 [128000/230880 (55%)]\tLoss: 0.217214\n",
            "Train Epoch: 3 [134400/230880 (58%)]\tLoss: 0.171447\n",
            "Train Epoch: 3 [140800/230880 (61%)]\tLoss: 0.000000\n",
            "Train Epoch: 3 [147200/230880 (64%)]\tLoss: 0.057968\n",
            "Train Epoch: 3 [153600/230880 (67%)]\tLoss: 0.018333\n",
            "Train Epoch: 3 [160000/230880 (69%)]\tLoss: 0.085723\n",
            "Train Epoch: 3 [166400/230880 (72%)]\tLoss: 0.024007\n",
            "Train Epoch: 3 [172800/230880 (75%)]\tLoss: 0.143990\n",
            "Train Epoch: 3 [179200/230880 (78%)]\tLoss: 0.007755\n",
            "Train Epoch: 3 [185600/230880 (80%)]\tLoss: 0.222839\n",
            "Train Epoch: 3 [192000/230880 (83%)]\tLoss: 0.002627\n",
            "Train Epoch: 3 [198400/230880 (86%)]\tLoss: 0.049802\n",
            "Train Epoch: 3 [204800/230880 (89%)]\tLoss: 0.068225\n",
            "Train Epoch: 3 [211200/230880 (91%)]\tLoss: 0.025184\n",
            "Train Epoch: 3 [217600/230880 (94%)]\tLoss: 0.057227\n",
            "Train Epoch: 3 [224000/230880 (97%)]\tLoss: 0.064203\n",
            "Train Epoch: 3 [230400/230880 (100%)]\tLoss: 0.097952\n"
          ]
        },
        {
          "output_type": "execute_result",
          "data": {
            "text/plain": [
              "[<matplotlib.lines.Line2D at 0x7b77a0164490>]"
            ]
          },
          "metadata": {},
          "execution_count": 44
        },
        {
          "output_type": "display_data",
          "data": {
            "text/plain": [
              "<Figure size 640x480 with 1 Axes>"
            ],
            "image/png": "[encoded data removed]"
          },
          "metadata": {}
        }
      ]
    },
    {
      "cell_type": "code",
      "source": [
        "\n",
        " Replace 'your_model' with the actual variable containing your trained model\n",
        "torch.save(siamese.state_dict(), '/content/drive/My Drive/siamese_resnet_model.pth')\n"
      ],
      "metadata": {
        "colab": {
          "base_uri": "https://localhost:8080/",
          "height": 140
        },
        "id": "GoCsYfE9s5Rm",
        "outputId": "96870509-b3dd-4ff3-ffc7-4a6416fc1684"
      },
      "execution_count": 45,
      "outputs": [
        {
          "output_type": "error",
          "ename": "SyntaxError",
          "evalue": "ignored",
          "traceback": [
            "\u001b[0;36m  File \u001b[0;32m\"<ipython-input-45-a2199ea37902>\"\u001b[0;36m, line \u001b[0;32m1\u001b[0m\n\u001b[0;31m    Replace 'your_model' with the actual variable containing your trained model\u001b[0m\n\u001b[0m            ^\u001b[0m\n\u001b[0;31mSyntaxError\u001b[0m\u001b[0;31m:\u001b[0m invalid syntax\n"
          ]
        }
      ]
    },
    {
      "cell_type": "code",
      "source": [],
      "metadata": {
        "id": "A6JSypMN4iIe"
      },
      "execution_count": null,
      "outputs": []
    },
    {
      "cell_type": "code",
      "source": [
        "# check how many images are correctly classified by the model on the test set and how many are incorrectly classified\n",
        "\n",
        "def test_siamese(model, test_loader):\n",
        "    model.eval()\n",
        "    test_loss = 0\n",
        "    correct = 0\n",
        "    with torch.no_grad():\n",
        "        for anchor, positive, negative in test_loader:\n",
        "            anchor = anchor.to(device)\n",
        "            positive = positive.to(device)\n",
        "            negative = negative.to(device)\n",
        "            anchor_output = model(anchor)\n",
        "            positive_output = model(positive)\n",
        "            negative_output = model(negative)\n",
        "            test_loss += triplet_loss(anchor_output, positive_output, negative_output).item()\n",
        "\n",
        "            #checks if the anchor is closer to the positive image than to the negative image\n",
        "            correct += ((anchor_output < positive_output) & (anchor_output < negative_output)).type(torch.float).sum().item()\n",
        "    test_loss /= len(test_loader.dataset)\n",
        "    print(\"Average loss: {:.4f}, Accuracy: {}/{} ({:.0f}%)\\n\".format(\n",
        "        test_loss, correct, len(test_loader.dataset),\n",
        "        100.0 * correct / len(test_loader.dataset)))\n",
        ""
      ],
      "metadata": {
        "id": "w056_92c6oWM"
      },
      "execution_count": 46,
      "outputs": []
    },
    {
      "cell_type": "code",
      "source": [
        "test_siamese(siamese, testLoader)"
      ],
      "metadata": {
        "colab": {
          "base_uri": "https://localhost:8080/"
        },
        "id": "5woPLJrRYc4k",
        "outputId": "56b1305d-6acc-4101-a988-098df98144b4"
      },
      "execution_count": 47,
      "outputs": [
        {
          "output_type": "stream",
          "name": "stdout",
          "text": [
            "Average loss: 0.0189, Accuracy: 6962.0/11377 (61%)\n",
            "\n"
          ]
        }
      ]
    },
    {
      "cell_type": "code",
      "source": [],
      "metadata": {
        "id": "MyQd_TDdYiWD"
      },
      "execution_count": null,
      "outputs": []
    }
  ]
}